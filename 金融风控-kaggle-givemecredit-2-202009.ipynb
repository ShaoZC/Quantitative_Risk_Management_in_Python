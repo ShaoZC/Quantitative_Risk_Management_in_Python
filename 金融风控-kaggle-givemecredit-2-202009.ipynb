{
 "metadata": {
  "language_info": {
   "codemirror_mode": {
    "name": "ipython",
    "version": 3
   },
   "file_extension": ".py",
   "mimetype": "text/x-python",
   "name": "python",
   "nbconvert_exporter": "python",
   "pygments_lexer": "ipython3",
   "version": "3.8.4-final"
  },
  "orig_nbformat": 2,
  "kernelspec": {
   "name": "python38464bit9379dd402be645a4a272fa7043f0c61f",
   "display_name": "Python 3.8.4 64-bit"
  }
 },
 "nbformat": 4,
 "nbformat_minor": 2,
 "cells": [
  {
   "source": [
    "### 基于sklearn决策树的最优分箱与IV值计算-Python实现\n",
    "https://zhuanlan.zhihu.com/p/58824825"
   ],
   "cell_type": "markdown",
   "metadata": {}
  },
  {
   "cell_type": "code",
   "execution_count": 1,
   "metadata": {},
   "outputs": [],
   "source": [
    "import pandas\n",
    "data=pandas.read_csv('GiveMeSomeCredit-cs-training.csv')\n",
    "# train=pandas.read_csv('GiveMeSomeCredit-cs-training.csv')\n",
    "test=pandas.read_csv('GiveMeSomeCredit-cs-test.csv')"
   ]
  },
  {
   "cell_type": "code",
   "execution_count": 3,
   "metadata": {},
   "outputs": [],
   "source": [
    "# 2. 获得最优分箱边界值函数的实现：\n",
    "import pandas as pd \n",
    "import numpy as np \n",
    "from sklearn.tree import DecisionTreeClassifier\n",
    "def optimal_binning_boundary(x: pd.Series, y: pd.Series, nan: float = -999.) -> list:\n",
    "    '''\n",
    "        利用决策树获得最优分箱的边界值列表\n",
    "    '''\n",
    "    boundary = []  # 待return的分箱边界值列表\n",
    "    \n",
    "    x = x.fillna(nan).values  # 填充缺失值\n",
    "    y = y.values\n",
    "    \n",
    "    clf = DecisionTreeClassifier(criterion='entropy',    #“信息熵”最小化准则划分\n",
    "                                 max_leaf_nodes=6,       # 最大叶子节点数\n",
    "                                 min_samples_leaf=0.05)  # 叶子节点样本数量最小占比\n",
    "\n",
    "    clf.fit(x.reshape(-1, 1), y)  # 训练决策树\n",
    "    \n",
    "    n_nodes = clf.tree_.node_count\n",
    "    children_left = clf.tree_.children_left\n",
    "    children_right = clf.tree_.children_right\n",
    "    threshold = clf.tree_.threshold\n",
    "    \n",
    "    for i in range(n_nodes):\n",
    "        if children_left[i] != children_right[i]:  # 获得决策树节点上的划分边界值\n",
    "            boundary.append(threshold[i])\n",
    "\n",
    "    boundary.sort()\n",
    "\n",
    "    min_x = x.min()\n",
    "    max_x = x.max() + 0.1  # +0.1是为了考虑后续groupby操作时，能包含特征最大值的样本\n",
    "    boundary = [min_x] + boundary + [max_x]\n",
    "\n",
    "    return boundary"
   ]
  },
  {
   "cell_type": "code",
   "execution_count": 4,
   "metadata": {},
   "outputs": [
    {
     "output_type": "execute_result",
     "data": {
      "text/plain": "[0.0,\n 0.11458224803209305,\n 0.21776090562343597,\n 0.49497613310813904,\n 0.6981423199176788,\n 0.8596274554729462,\n 50708.1]"
     },
     "metadata": {},
     "execution_count": 4
    }
   ],
   "source": [
    "# 测试optimal_binning_boundary函数：\n",
    "optimal_binning_boundary(x=data['RevolvingUtilizationOfUnsecuredLines'],\n",
    "                         y=data['SeriousDlqin2yrs'])"
   ]
  },
  {
   "cell_type": "code",
   "execution_count": 5,
   "metadata": {},
   "outputs": [],
   "source": [
    "# 3. 获得某个变量各个分箱的WOE、IV值函数的实现：\n",
    "def feature_woe_iv(x: pd.Series, y: pd.Series, nan: float = -999.) -> pd.DataFrame:\n",
    "    '''\n",
    "        计算变量各个分箱的WOE、IV值，返回一个DataFrame\n",
    "    '''\n",
    "    x = x.fillna(nan)\n",
    "    boundary = optimal_binning_boundary(x, y, nan)        # 获得最优分箱边界值列表\n",
    "    df = pd.concat([x, y], axis=1)                        # 合并x、y为一个DataFrame，方便后续计算\n",
    "    df.columns = ['x', 'y']                               # 特征变量、目标变量字段的重命名\n",
    "    df['bins'] = pd.cut(x=x, bins=boundary, right=False)  # 获得每个x值所在的分箱区间\n",
    "    \n",
    "    grouped = df.groupby('bins')['y']                     # 统计各分箱区间的好、坏、总客户数量\n",
    "    result_df = grouped.agg([('good',  lambda y: (y == 0).sum()), \n",
    "                             ('bad',   lambda y: (y == 1).sum()),\n",
    "                             ('total', 'count')])\n",
    "\n",
    "    result_df['good_pct'] = result_df['good'] / result_df['good'].sum()       # 好客户占比\n",
    "    result_df['bad_pct'] = result_df['bad'] / result_df['bad'].sum()          # 坏客户占比\n",
    "    result_df['total_pct'] = result_df['total'] / result_df['total'].sum()    # 总客户占比\n",
    "\n",
    "    result_df['bad_rate'] = result_df['bad'] / result_df['total']             # 坏比率\n",
    "    \n",
    "    result_df['woe'] = np.log(result_df['good_pct'] / result_df['bad_pct'])              # WOE\n",
    "    result_df['iv'] = (result_df['good_pct'] - result_df['bad_pct']) * result_df['woe']  # IV\n",
    "    \n",
    "    print(f\"该变量IV = {result_df['iv'].sum()}\")\n",
    "    \n",
    "    return result_df"
   ]
  },
  {
   "cell_type": "code",
   "execution_count": 6,
   "metadata": {
    "tags": []
   },
   "outputs": [
    {
     "output_type": "stream",
     "name": "stdout",
     "text": "该变量IV = 1.1025918750620314\n"
    },
    {
     "output_type": "execute_result",
     "data": {
      "text/plain": "                  good   bad  total  good_pct   bad_pct  total_pct  bad_rate  \\\nbins                                                                           \n[0.0, 0.115)     66466  1226  67692  0.474845  0.122282   0.451280  0.018111   \n[0.115, 0.218)   15776   486  16262  0.112707  0.048474   0.108413  0.029886   \n[0.218, 0.495)   23162  1245  24407  0.165474  0.124177   0.162713  0.051010   \n[0.495, 0.698)   10499  1100  11599  0.075007  0.109715   0.077327  0.094836   \n[0.698, 0.86)     6716  1097   7813  0.047980  0.109416   0.052087  0.140407   \n[0.86, 50708.1)  17355  4872  22227  0.123987  0.485937   0.148180  0.219193   \n\n                      woe        iv  \nbins                                 \n[0.0, 0.115)     1.356659  0.478308  \n[0.115, 0.218)   0.843761  0.054197  \n[0.218, 0.495)   0.287103  0.011856  \n[0.495, 0.698)  -0.380305  0.013200  \n[0.698, 0.86)   -0.824361  0.050645  \n[0.86, 50708.1) -1.365899  0.494386  ",
      "text/html": "<div>\n<style scoped>\n    .dataframe tbody tr th:only-of-type {\n        vertical-align: middle;\n    }\n\n    .dataframe tbody tr th {\n        vertical-align: top;\n    }\n\n    .dataframe thead th {\n        text-align: right;\n    }\n</style>\n<table border=\"1\" class=\"dataframe\">\n  <thead>\n    <tr style=\"text-align: right;\">\n      <th></th>\n      <th>good</th>\n      <th>bad</th>\n      <th>total</th>\n      <th>good_pct</th>\n      <th>bad_pct</th>\n      <th>total_pct</th>\n      <th>bad_rate</th>\n      <th>woe</th>\n      <th>iv</th>\n    </tr>\n    <tr>\n      <th>bins</th>\n      <th></th>\n      <th></th>\n      <th></th>\n      <th></th>\n      <th></th>\n      <th></th>\n      <th></th>\n      <th></th>\n      <th></th>\n    </tr>\n  </thead>\n  <tbody>\n    <tr>\n      <th>[0.0, 0.115)</th>\n      <td>66466</td>\n      <td>1226</td>\n      <td>67692</td>\n      <td>0.474845</td>\n      <td>0.122282</td>\n      <td>0.451280</td>\n      <td>0.018111</td>\n      <td>1.356659</td>\n      <td>0.478308</td>\n    </tr>\n    <tr>\n      <th>[0.115, 0.218)</th>\n      <td>15776</td>\n      <td>486</td>\n      <td>16262</td>\n      <td>0.112707</td>\n      <td>0.048474</td>\n      <td>0.108413</td>\n      <td>0.029886</td>\n      <td>0.843761</td>\n      <td>0.054197</td>\n    </tr>\n    <tr>\n      <th>[0.218, 0.495)</th>\n      <td>23162</td>\n      <td>1245</td>\n      <td>24407</td>\n      <td>0.165474</td>\n      <td>0.124177</td>\n      <td>0.162713</td>\n      <td>0.051010</td>\n      <td>0.287103</td>\n      <td>0.011856</td>\n    </tr>\n    <tr>\n      <th>[0.495, 0.698)</th>\n      <td>10499</td>\n      <td>1100</td>\n      <td>11599</td>\n      <td>0.075007</td>\n      <td>0.109715</td>\n      <td>0.077327</td>\n      <td>0.094836</td>\n      <td>-0.380305</td>\n      <td>0.013200</td>\n    </tr>\n    <tr>\n      <th>[0.698, 0.86)</th>\n      <td>6716</td>\n      <td>1097</td>\n      <td>7813</td>\n      <td>0.047980</td>\n      <td>0.109416</td>\n      <td>0.052087</td>\n      <td>0.140407</td>\n      <td>-0.824361</td>\n      <td>0.050645</td>\n    </tr>\n    <tr>\n      <th>[0.86, 50708.1)</th>\n      <td>17355</td>\n      <td>4872</td>\n      <td>22227</td>\n      <td>0.123987</td>\n      <td>0.485937</td>\n      <td>0.148180</td>\n      <td>0.219193</td>\n      <td>-1.365899</td>\n      <td>0.494386</td>\n    </tr>\n  </tbody>\n</table>\n</div>"
     },
     "metadata": {},
     "execution_count": 6
    }
   ],
   "source": [
    "# 测试feature_woe_iv函数：\n",
    "feature_woe_iv(x=data['RevolvingUtilizationOfUnsecuredLines'], \n",
    "               y=data['SeriousDlqin2yrs'])"
   ]
  },
  {
   "cell_type": "code",
   "execution_count": null,
   "metadata": {},
   "outputs": [],
   "source": [
    "# 如上图所示，变量RevolvingUtilizationOfUnsecuredLines，分箱WOE趋势单调，bad_rate风险排序性较好，IV值>1.0则说明该变量预测能力很强。"
   ]
  },
  {
   "cell_type": "code",
   "execution_count": null,
   "metadata": {},
   "outputs": [],
   "source": []
  }
 ]
}