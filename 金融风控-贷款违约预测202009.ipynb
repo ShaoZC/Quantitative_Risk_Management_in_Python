{
 "metadata": {
  "language_info": {
   "codemirror_mode": {
    "name": "ipython",
    "version": 3
   },
   "file_extension": ".py",
   "mimetype": "text/x-python",
   "name": "python",
   "nbconvert_exporter": "python",
   "pygments_lexer": "ipython3",
   "version": "3.8.4-final"
  },
  "orig_nbformat": 2,
  "kernelspec": {
   "name": "python38464bit4122737f03d44d4fa1450c1c2865b442",
   "display_name": "Python 3.8.4 64-bit"
  }
 },
 "nbformat": 4,
 "nbformat_minor": 2,
 "cells": [
  {
   "cell_type": "markdown",
   "metadata": {},
   "source": [
    "天池大赛\n",
    "\n",
    "零基础入门金融风控-贷款违约预测\n",
    "\n",
    "https://tianchi.aliyun.com/competition/entrance/531830/information"
   ]
  },
  {
   "cell_type": "code",
   "execution_count": 2,
   "metadata": {},
   "outputs": [],
   "source": [
    "import pandas\n",
    "import numpy\n",
    "import matplotlib.pyplot"
   ]
  },
  {
   "cell_type": "code",
   "execution_count": 3,
   "metadata": {},
   "outputs": [
    {
     "output_type": "execute_result",
     "data": {
      "text/plain": "            id  loanAmnt  term  interestRate  installment grade subGrade  \\\n0            0   35000.0     5         19.52       917.97     E       E2   \n1            1   18000.0     5         18.49       461.90     D       D2   \n2            2   12000.0     5         16.99       298.17     D       D3   \n3            3   11000.0     3          7.26       340.96     A       A4   \n4            4    3000.0     3         12.99       101.07     C       C2   \n...        ...       ...   ...           ...          ...   ...      ...   \n799995  799995   25000.0     3         14.49       860.41     C       C4   \n799996  799996   17000.0     3          7.90       531.94     A       A4   \n799997  799997    6000.0     3         13.33       203.12     C       C3   \n799998  799998   19200.0     3          6.92       592.14     A       A4   \n799999  799999    9000.0     3         11.06       294.91     B       B3   \n\n        employmentTitle employmentLength  homeOwnership  ...    n5    n6  \\\n0                 320.0          2 years              2  ...   9.0   8.0   \n1              219843.0          5 years              0  ...   NaN   NaN   \n2               31698.0          8 years              0  ...   0.0  21.0   \n3               46854.0        10+ years              1  ...  16.0   4.0   \n4                  54.0              NaN              1  ...   4.0   9.0   \n...                 ...              ...            ...  ...   ...   ...   \n799995           2659.0          7 years              1  ...   6.0   2.0   \n799996          29205.0        10+ years              0  ...  15.0  16.0   \n799997           2582.0        10+ years              1  ...   4.0  26.0   \n799998            151.0        10+ years              0  ...  10.0   6.0   \n799999             13.0          5 years              0  ...   3.0   4.0   \n\n          n7    n8    n9   n10  n11  n12  n13  n14  \n0        4.0  12.0   2.0   7.0  0.0  0.0  0.0  2.0  \n1        NaN   NaN   NaN  13.0  NaN  NaN  NaN  NaN  \n2        4.0   5.0   3.0  11.0  0.0  0.0  0.0  4.0  \n3        7.0  21.0   6.0   9.0  0.0  0.0  0.0  1.0  \n4       10.0  15.0   7.0  12.0  0.0  0.0  0.0  4.0  \n...      ...   ...   ...   ...  ...  ...  ...  ...  \n799995  12.0  13.0  10.0  14.0  0.0  0.0  0.0  3.0  \n799996   2.0  19.0   2.0   7.0  0.0  0.0  0.0  0.0  \n799997   4.0  10.0   4.0   5.0  0.0  0.0  1.0  4.0  \n799998  12.0  22.0   8.0  16.0  0.0  0.0  0.0  5.0  \n799999   4.0   8.0   3.0   7.0  0.0  0.0  0.0  2.0  \n\n[800000 rows x 47 columns]",
      "text/html": "<div>\n<style scoped>\n    .dataframe tbody tr th:only-of-type {\n        vertical-align: middle;\n    }\n\n    .dataframe tbody tr th {\n        vertical-align: top;\n    }\n\n    .dataframe thead th {\n        text-align: right;\n    }\n</style>\n<table border=\"1\" class=\"dataframe\">\n  <thead>\n    <tr style=\"text-align: right;\">\n      <th></th>\n      <th>id</th>\n      <th>loanAmnt</th>\n      <th>term</th>\n      <th>interestRate</th>\n      <th>installment</th>\n      <th>grade</th>\n      <th>subGrade</th>\n      <th>employmentTitle</th>\n      <th>employmentLength</th>\n      <th>homeOwnership</th>\n      <th>...</th>\n      <th>n5</th>\n      <th>n6</th>\n      <th>n7</th>\n      <th>n8</th>\n      <th>n9</th>\n      <th>n10</th>\n      <th>n11</th>\n      <th>n12</th>\n      <th>n13</th>\n      <th>n14</th>\n    </tr>\n  </thead>\n  <tbody>\n    <tr>\n      <th>0</th>\n      <td>0</td>\n      <td>35000.0</td>\n      <td>5</td>\n      <td>19.52</td>\n      <td>917.97</td>\n      <td>E</td>\n      <td>E2</td>\n      <td>320.0</td>\n      <td>2 years</td>\n      <td>2</td>\n      <td>...</td>\n      <td>9.0</td>\n      <td>8.0</td>\n      <td>4.0</td>\n      <td>12.0</td>\n      <td>2.0</td>\n      <td>7.0</td>\n      <td>0.0</td>\n      <td>0.0</td>\n      <td>0.0</td>\n      <td>2.0</td>\n    </tr>\n    <tr>\n      <th>1</th>\n      <td>1</td>\n      <td>18000.0</td>\n      <td>5</td>\n      <td>18.49</td>\n      <td>461.90</td>\n      <td>D</td>\n      <td>D2</td>\n      <td>219843.0</td>\n      <td>5 years</td>\n      <td>0</td>\n      <td>...</td>\n      <td>NaN</td>\n      <td>NaN</td>\n      <td>NaN</td>\n      <td>NaN</td>\n      <td>NaN</td>\n      <td>13.0</td>\n      <td>NaN</td>\n      <td>NaN</td>\n      <td>NaN</td>\n      <td>NaN</td>\n    </tr>\n    <tr>\n      <th>2</th>\n      <td>2</td>\n      <td>12000.0</td>\n      <td>5</td>\n      <td>16.99</td>\n      <td>298.17</td>\n      <td>D</td>\n      <td>D3</td>\n      <td>31698.0</td>\n      <td>8 years</td>\n      <td>0</td>\n      <td>...</td>\n      <td>0.0</td>\n      <td>21.0</td>\n      <td>4.0</td>\n      <td>5.0</td>\n      <td>3.0</td>\n      <td>11.0</td>\n      <td>0.0</td>\n      <td>0.0</td>\n      <td>0.0</td>\n      <td>4.0</td>\n    </tr>\n    <tr>\n      <th>3</th>\n      <td>3</td>\n      <td>11000.0</td>\n      <td>3</td>\n      <td>7.26</td>\n      <td>340.96</td>\n      <td>A</td>\n      <td>A4</td>\n      <td>46854.0</td>\n      <td>10+ years</td>\n      <td>1</td>\n      <td>...</td>\n      <td>16.0</td>\n      <td>4.0</td>\n      <td>7.0</td>\n      <td>21.0</td>\n      <td>6.0</td>\n      <td>9.0</td>\n      <td>0.0</td>\n      <td>0.0</td>\n      <td>0.0</td>\n      <td>1.0</td>\n    </tr>\n    <tr>\n      <th>4</th>\n      <td>4</td>\n      <td>3000.0</td>\n      <td>3</td>\n      <td>12.99</td>\n      <td>101.07</td>\n      <td>C</td>\n      <td>C2</td>\n      <td>54.0</td>\n      <td>NaN</td>\n      <td>1</td>\n      <td>...</td>\n      <td>4.0</td>\n      <td>9.0</td>\n      <td>10.0</td>\n      <td>15.0</td>\n      <td>7.0</td>\n      <td>12.0</td>\n      <td>0.0</td>\n      <td>0.0</td>\n      <td>0.0</td>\n      <td>4.0</td>\n    </tr>\n    <tr>\n      <th>...</th>\n      <td>...</td>\n      <td>...</td>\n      <td>...</td>\n      <td>...</td>\n      <td>...</td>\n      <td>...</td>\n      <td>...</td>\n      <td>...</td>\n      <td>...</td>\n      <td>...</td>\n      <td>...</td>\n      <td>...</td>\n      <td>...</td>\n      <td>...</td>\n      <td>...</td>\n      <td>...</td>\n      <td>...</td>\n      <td>...</td>\n      <td>...</td>\n      <td>...</td>\n      <td>...</td>\n    </tr>\n    <tr>\n      <th>799995</th>\n      <td>799995</td>\n      <td>25000.0</td>\n      <td>3</td>\n      <td>14.49</td>\n      <td>860.41</td>\n      <td>C</td>\n      <td>C4</td>\n      <td>2659.0</td>\n      <td>7 years</td>\n      <td>1</td>\n      <td>...</td>\n      <td>6.0</td>\n      <td>2.0</td>\n      <td>12.0</td>\n      <td>13.0</td>\n      <td>10.0</td>\n      <td>14.0</td>\n      <td>0.0</td>\n      <td>0.0</td>\n      <td>0.0</td>\n      <td>3.0</td>\n    </tr>\n    <tr>\n      <th>799996</th>\n      <td>799996</td>\n      <td>17000.0</td>\n      <td>3</td>\n      <td>7.90</td>\n      <td>531.94</td>\n      <td>A</td>\n      <td>A4</td>\n      <td>29205.0</td>\n      <td>10+ years</td>\n      <td>0</td>\n      <td>...</td>\n      <td>15.0</td>\n      <td>16.0</td>\n      <td>2.0</td>\n      <td>19.0</td>\n      <td>2.0</td>\n      <td>7.0</td>\n      <td>0.0</td>\n      <td>0.0</td>\n      <td>0.0</td>\n      <td>0.0</td>\n    </tr>\n    <tr>\n      <th>799997</th>\n      <td>799997</td>\n      <td>6000.0</td>\n      <td>3</td>\n      <td>13.33</td>\n      <td>203.12</td>\n      <td>C</td>\n      <td>C3</td>\n      <td>2582.0</td>\n      <td>10+ years</td>\n      <td>1</td>\n      <td>...</td>\n      <td>4.0</td>\n      <td>26.0</td>\n      <td>4.0</td>\n      <td>10.0</td>\n      <td>4.0</td>\n      <td>5.0</td>\n      <td>0.0</td>\n      <td>0.0</td>\n      <td>1.0</td>\n      <td>4.0</td>\n    </tr>\n    <tr>\n      <th>799998</th>\n      <td>799998</td>\n      <td>19200.0</td>\n      <td>3</td>\n      <td>6.92</td>\n      <td>592.14</td>\n      <td>A</td>\n      <td>A4</td>\n      <td>151.0</td>\n      <td>10+ years</td>\n      <td>0</td>\n      <td>...</td>\n      <td>10.0</td>\n      <td>6.0</td>\n      <td>12.0</td>\n      <td>22.0</td>\n      <td>8.0</td>\n      <td>16.0</td>\n      <td>0.0</td>\n      <td>0.0</td>\n      <td>0.0</td>\n      <td>5.0</td>\n    </tr>\n    <tr>\n      <th>799999</th>\n      <td>799999</td>\n      <td>9000.0</td>\n      <td>3</td>\n      <td>11.06</td>\n      <td>294.91</td>\n      <td>B</td>\n      <td>B3</td>\n      <td>13.0</td>\n      <td>5 years</td>\n      <td>0</td>\n      <td>...</td>\n      <td>3.0</td>\n      <td>4.0</td>\n      <td>4.0</td>\n      <td>8.0</td>\n      <td>3.0</td>\n      <td>7.0</td>\n      <td>0.0</td>\n      <td>0.0</td>\n      <td>0.0</td>\n      <td>2.0</td>\n    </tr>\n  </tbody>\n</table>\n<p>800000 rows × 47 columns</p>\n</div>"
     },
     "metadata": {},
     "execution_count": 3
    }
   ],
   "source": [
    "#在线数据 无需下载\n",
    "# train_url='http://aliyuntianchiresult.cn-hangzhou.oss.aliyun-inc.com/file/race/documents/531830/train.csv?Expires=1599954909&OSSAccessKeyId=LTAILBoOl5drlflK&Signature=tu3%2F%2FkRQzmC%2BFvVx2Zezu%2FoIzpI%3D&response-content-disposition=attachment%3B%20'\n",
    "#离线数据 可提前下载好\n",
    "train_url='C:/Users/wade/Downloads/train.csv'\n",
    "train=pandas.read_csv(train_url)\n",
    "train"
   ]
  },
  {
   "cell_type": "code",
   "execution_count": 4,
   "metadata": {},
   "outputs": [
    {
     "output_type": "execute_result",
     "data": {
      "text/plain": "            id  loanAmnt  term  interestRate  installment grade subGrade  \\\n0       800000   14000.0     3         10.99       458.28     B       B3   \n1       800001   20000.0     5         14.65       472.14     C       C5   \n2       800002   12000.0     3         19.99       445.91     D       D4   \n3       800003   17500.0     5         14.31       410.02     C       C4   \n4       800004   35000.0     3         17.09      1249.42     D       D1   \n...        ...       ...   ...           ...          ...   ...      ...   \n199995  999995    7000.0     3         11.14       229.64     B       B2   \n199996  999996    6000.0     3          6.24       183.19     A       A2   \n199997  999997   14000.0     5         15.88       339.57     C       C4   \n199998  999998    8000.0     3         18.06       289.47     D       D2   \n199999  999999    8000.0     3          6.68       245.85     A       A3   \n\n        employmentTitle employmentLength  homeOwnership  ...    n5    n6  \\\n0                7027.0        10+ years              0  ...   8.0   4.0   \n1               60426.0        10+ years              0  ...   1.0   3.0   \n2               23547.0          2 years              1  ...   1.0  36.0   \n3                 636.0          4 years              0  ...   7.0   2.0   \n4              368446.0         < 1 year              1  ...  11.0   3.0   \n...                 ...              ...            ...  ...   ...   ...   \n199995         330967.0          7 years              1  ...   6.0  11.0   \n199996          38930.0           1 year              1  ...   5.0  14.0   \n199997         282016.0          8 years              2  ...  21.0  18.0   \n199998             97.0          4 years              1  ...  12.0   5.0   \n199999            320.0          7 years              1  ...   3.0   4.0   \n\n          n7    n8    n9   n10  n11  n12  n13  n14  \n0       15.0  19.0   6.0  17.0  0.0  0.0  1.0  3.0  \n1        3.0   9.0   3.0   5.0  0.0  0.0  2.0  2.0  \n2        5.0   6.0   4.0  12.0  0.0  0.0  0.0  7.0  \n3        8.0  14.0   2.0  10.0  0.0  0.0  0.0  3.0  \n4       16.0  18.0  11.0  19.0  0.0  0.0  0.0  1.0  \n...      ...   ...   ...   ...  ...  ...  ...  ...  \n199995   2.0   6.0   2.0   8.0  0.0  0.0  0.0  4.0  \n199996  12.0  13.0   6.0  25.0  0.0  0.0  0.0  0.0  \n199997  21.0  42.0  13.0  21.0  0.0  0.0  0.0  0.0  \n199998   8.0  19.0   6.0  11.0  0.0  0.0  0.0  2.0  \n199999   3.0   4.0   2.0   4.0  0.0  0.0  0.0  0.0  \n\n[200000 rows x 48 columns]",
      "text/html": "<div>\n<style scoped>\n    .dataframe tbody tr th:only-of-type {\n        vertical-align: middle;\n    }\n\n    .dataframe tbody tr th {\n        vertical-align: top;\n    }\n\n    .dataframe thead th {\n        text-align: right;\n    }\n</style>\n<table border=\"1\" class=\"dataframe\">\n  <thead>\n    <tr style=\"text-align: right;\">\n      <th></th>\n      <th>id</th>\n      <th>loanAmnt</th>\n      <th>term</th>\n      <th>interestRate</th>\n      <th>installment</th>\n      <th>grade</th>\n      <th>subGrade</th>\n      <th>employmentTitle</th>\n      <th>employmentLength</th>\n      <th>homeOwnership</th>\n      <th>...</th>\n      <th>n5</th>\n      <th>n6</th>\n      <th>n7</th>\n      <th>n8</th>\n      <th>n9</th>\n      <th>n10</th>\n      <th>n11</th>\n      <th>n12</th>\n      <th>n13</th>\n      <th>n14</th>\n    </tr>\n  </thead>\n  <tbody>\n    <tr>\n      <th>0</th>\n      <td>800000</td>\n      <td>14000.0</td>\n      <td>3</td>\n      <td>10.99</td>\n      <td>458.28</td>\n      <td>B</td>\n      <td>B3</td>\n      <td>7027.0</td>\n      <td>10+ years</td>\n      <td>0</td>\n      <td>...</td>\n      <td>8.0</td>\n      <td>4.0</td>\n      <td>15.0</td>\n      <td>19.0</td>\n      <td>6.0</td>\n      <td>17.0</td>\n      <td>0.0</td>\n      <td>0.0</td>\n      <td>1.0</td>\n      <td>3.0</td>\n    </tr>\n    <tr>\n      <th>1</th>\n      <td>800001</td>\n      <td>20000.0</td>\n      <td>5</td>\n      <td>14.65</td>\n      <td>472.14</td>\n      <td>C</td>\n      <td>C5</td>\n      <td>60426.0</td>\n      <td>10+ years</td>\n      <td>0</td>\n      <td>...</td>\n      <td>1.0</td>\n      <td>3.0</td>\n      <td>3.0</td>\n      <td>9.0</td>\n      <td>3.0</td>\n      <td>5.0</td>\n      <td>0.0</td>\n      <td>0.0</td>\n      <td>2.0</td>\n      <td>2.0</td>\n    </tr>\n    <tr>\n      <th>2</th>\n      <td>800002</td>\n      <td>12000.0</td>\n      <td>3</td>\n      <td>19.99</td>\n      <td>445.91</td>\n      <td>D</td>\n      <td>D4</td>\n      <td>23547.0</td>\n      <td>2 years</td>\n      <td>1</td>\n      <td>...</td>\n      <td>1.0</td>\n      <td>36.0</td>\n      <td>5.0</td>\n      <td>6.0</td>\n      <td>4.0</td>\n      <td>12.0</td>\n      <td>0.0</td>\n      <td>0.0</td>\n      <td>0.0</td>\n      <td>7.0</td>\n    </tr>\n    <tr>\n      <th>3</th>\n      <td>800003</td>\n      <td>17500.0</td>\n      <td>5</td>\n      <td>14.31</td>\n      <td>410.02</td>\n      <td>C</td>\n      <td>C4</td>\n      <td>636.0</td>\n      <td>4 years</td>\n      <td>0</td>\n      <td>...</td>\n      <td>7.0</td>\n      <td>2.0</td>\n      <td>8.0</td>\n      <td>14.0</td>\n      <td>2.0</td>\n      <td>10.0</td>\n      <td>0.0</td>\n      <td>0.0</td>\n      <td>0.0</td>\n      <td>3.0</td>\n    </tr>\n    <tr>\n      <th>4</th>\n      <td>800004</td>\n      <td>35000.0</td>\n      <td>3</td>\n      <td>17.09</td>\n      <td>1249.42</td>\n      <td>D</td>\n      <td>D1</td>\n      <td>368446.0</td>\n      <td>&lt; 1 year</td>\n      <td>1</td>\n      <td>...</td>\n      <td>11.0</td>\n      <td>3.0</td>\n      <td>16.0</td>\n      <td>18.0</td>\n      <td>11.0</td>\n      <td>19.0</td>\n      <td>0.0</td>\n      <td>0.0</td>\n      <td>0.0</td>\n      <td>1.0</td>\n    </tr>\n    <tr>\n      <th>...</th>\n      <td>...</td>\n      <td>...</td>\n      <td>...</td>\n      <td>...</td>\n      <td>...</td>\n      <td>...</td>\n      <td>...</td>\n      <td>...</td>\n      <td>...</td>\n      <td>...</td>\n      <td>...</td>\n      <td>...</td>\n      <td>...</td>\n      <td>...</td>\n      <td>...</td>\n      <td>...</td>\n      <td>...</td>\n      <td>...</td>\n      <td>...</td>\n      <td>...</td>\n      <td>...</td>\n    </tr>\n    <tr>\n      <th>199995</th>\n      <td>999995</td>\n      <td>7000.0</td>\n      <td>3</td>\n      <td>11.14</td>\n      <td>229.64</td>\n      <td>B</td>\n      <td>B2</td>\n      <td>330967.0</td>\n      <td>7 years</td>\n      <td>1</td>\n      <td>...</td>\n      <td>6.0</td>\n      <td>11.0</td>\n      <td>2.0</td>\n      <td>6.0</td>\n      <td>2.0</td>\n      <td>8.0</td>\n      <td>0.0</td>\n      <td>0.0</td>\n      <td>0.0</td>\n      <td>4.0</td>\n    </tr>\n    <tr>\n      <th>199996</th>\n      <td>999996</td>\n      <td>6000.0</td>\n      <td>3</td>\n      <td>6.24</td>\n      <td>183.19</td>\n      <td>A</td>\n      <td>A2</td>\n      <td>38930.0</td>\n      <td>1 year</td>\n      <td>1</td>\n      <td>...</td>\n      <td>5.0</td>\n      <td>14.0</td>\n      <td>12.0</td>\n      <td>13.0</td>\n      <td>6.0</td>\n      <td>25.0</td>\n      <td>0.0</td>\n      <td>0.0</td>\n      <td>0.0</td>\n      <td>0.0</td>\n    </tr>\n    <tr>\n      <th>199997</th>\n      <td>999997</td>\n      <td>14000.0</td>\n      <td>5</td>\n      <td>15.88</td>\n      <td>339.57</td>\n      <td>C</td>\n      <td>C4</td>\n      <td>282016.0</td>\n      <td>8 years</td>\n      <td>2</td>\n      <td>...</td>\n      <td>21.0</td>\n      <td>18.0</td>\n      <td>21.0</td>\n      <td>42.0</td>\n      <td>13.0</td>\n      <td>21.0</td>\n      <td>0.0</td>\n      <td>0.0</td>\n      <td>0.0</td>\n      <td>0.0</td>\n    </tr>\n    <tr>\n      <th>199998</th>\n      <td>999998</td>\n      <td>8000.0</td>\n      <td>3</td>\n      <td>18.06</td>\n      <td>289.47</td>\n      <td>D</td>\n      <td>D2</td>\n      <td>97.0</td>\n      <td>4 years</td>\n      <td>1</td>\n      <td>...</td>\n      <td>12.0</td>\n      <td>5.0</td>\n      <td>8.0</td>\n      <td>19.0</td>\n      <td>6.0</td>\n      <td>11.0</td>\n      <td>0.0</td>\n      <td>0.0</td>\n      <td>0.0</td>\n      <td>2.0</td>\n    </tr>\n    <tr>\n      <th>199999</th>\n      <td>999999</td>\n      <td>8000.0</td>\n      <td>3</td>\n      <td>6.68</td>\n      <td>245.85</td>\n      <td>A</td>\n      <td>A3</td>\n      <td>320.0</td>\n      <td>7 years</td>\n      <td>1</td>\n      <td>...</td>\n      <td>3.0</td>\n      <td>4.0</td>\n      <td>3.0</td>\n      <td>4.0</td>\n      <td>2.0</td>\n      <td>4.0</td>\n      <td>0.0</td>\n      <td>0.0</td>\n      <td>0.0</td>\n      <td>0.0</td>\n    </tr>\n  </tbody>\n</table>\n<p>200000 rows × 48 columns</p>\n</div>"
     },
     "metadata": {},
     "execution_count": 4
    }
   ],
   "source": [
    "#在线数据 无需下载\n",
    "# testA_url='http://aliyuntianchiresult.cn-hangzhou.oss.aliyun-inc.com/file/race/documents/531830/testA.csv?Expires=1599955258&OSSAccessKeyId=LTAILBoOl5drlflK&Signature=O25NvtTQu0Onw6eVIBeWYvByqlk%3D&response-content-disposition=attachment%3B%20'\n",
    "#离线数据 可提前下载好\n",
    "testA_url='C:/Users/wade/Downloads/testA.csv'\n",
    "testA=pandas.read_csv(testA_url)\n",
    "testA"
   ]
  },
  {
   "cell_type": "code",
   "execution_count": null,
   "metadata": {},
   "outputs": [],
   "source": []
  }
 ]
}