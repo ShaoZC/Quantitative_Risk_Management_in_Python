{
 "cells": [
  {
   "cell_type": "code",
   "execution_count": 2,
   "metadata": {
    "tags": []
   },
   "outputs": [
    {
     "output_type": "stream",
     "name": "stdout",
     "text": "交货日期                     物料长代码  折合人民币单价\n0  2017/12/18         A.MCPU.7500U0-000   1522.0\n1  2018/09/30  A0.CK16450.0000-V10-00YC    920.0\n2  2018/09/28         A.MCPU.7500U0-00F    850.0\n3  2017/05/12         B.PCBX.WT1702-010    800.0\n4  2018/09/28         A.MCPU.7200U0-0FY    650.0\n"
    }
   ],
   "source": [
    "url='C:/Temp/66.xlsx'\n",
    "import pandas\n",
    "data=pandas.read_excel(url)\n",
    "# print(data)\n",
    "data1=data[['交货日期','物料长代码','折合人民币单价']]\n",
    "print(data1.head())"
   ]
  },
  {
   "cell_type": "code",
   "execution_count": 31,
   "metadata": {},
   "outputs": [
    {
     "output_type": "execute_result",
     "data": {
      "text/plain": "              供应商          日期          单据编号 审核标志 关闭标志 物料名称  \\\n4919  深圳市海誉印刷有限公司  2016/04/15  B20160400030    Y    Y   彩盒   \n\n                                                   规格型号   单位   币别   部门  ...  \\\n4919  彩盒 M8S 240*150*60mm 坑盒 350g灰卡+普白F加强，四面印刷+哑胶+精裱+压型  PCS  RMB  采购部  ...   \n\n                  物料长代码  实际含税单价  价税合计  附件数 表体附件数  收料数量  退料数量  最新变更单编号  计划类别  \\\n4919  Z.CHXX.CYXM8S-000    0.95  95.0  0.0   0.0   0.0   0.0      NaN    标准   \n\n      折合人民币单价  \n4919     0.95  \n\n[1 rows x 24 columns]",
      "text/html": "<div>\n<style scoped>\n    .dataframe tbody tr th:only-of-type {\n        vertical-align: middle;\n    }\n\n    .dataframe tbody tr th {\n        vertical-align: top;\n    }\n\n    .dataframe thead th {\n        text-align: right;\n    }\n</style>\n<table border=\"1\" class=\"dataframe\">\n  <thead>\n    <tr style=\"text-align: right;\">\n      <th></th>\n      <th>供应商</th>\n      <th>日期</th>\n      <th>单据编号</th>\n      <th>审核标志</th>\n      <th>关闭标志</th>\n      <th>物料名称</th>\n      <th>规格型号</th>\n      <th>单位</th>\n      <th>币别</th>\n      <th>部门</th>\n      <th>...</th>\n      <th>物料长代码</th>\n      <th>实际含税单价</th>\n      <th>价税合计</th>\n      <th>附件数</th>\n      <th>表体附件数</th>\n      <th>收料数量</th>\n      <th>退料数量</th>\n      <th>最新变更单编号</th>\n      <th>计划类别</th>\n      <th>折合人民币单价</th>\n    </tr>\n  </thead>\n  <tbody>\n    <tr>\n      <th>4919</th>\n      <td>深圳市海誉印刷有限公司</td>\n      <td>2016/04/15</td>\n      <td>B20160400030</td>\n      <td>Y</td>\n      <td>Y</td>\n      <td>彩盒</td>\n      <td>彩盒 M8S 240*150*60mm 坑盒 350g灰卡+普白F加强，四面印刷+哑胶+精裱+压型</td>\n      <td>PCS</td>\n      <td>RMB</td>\n      <td>采购部</td>\n      <td>...</td>\n      <td>Z.CHXX.CYXM8S-000</td>\n      <td>0.95</td>\n      <td>95.0</td>\n      <td>0.0</td>\n      <td>0.0</td>\n      <td>0.0</td>\n      <td>0.0</td>\n      <td>NaN</td>\n      <td>标准</td>\n      <td>0.95</td>\n    </tr>\n  </tbody>\n</table>\n<p>1 rows × 24 columns</p>\n</div>"
     },
     "metadata": {},
     "execution_count": 31
    }
   ],
   "source": [
    "data11=data.sort_values(by='交货日期')\n",
    "data11.head(1)"
   ]
  },
  {
   "cell_type": "code",
   "execution_count": 36,
   "metadata": {},
   "outputs": [
    {
     "output_type": "execute_result",
     "data": {
      "text/plain": "4919     2016/04/21\n4535     2016/05/20\n7756     2016/05/20\n4536     2016/06/03\n4537     2016/06/03\n            ...    \n9948     2017/01/03\n7889     2017/01/03\n1981     2017/01/03\n16763    2017/01/03\n16762    2017/01/03\nName: 交货日期, Length: 100, dtype: object"
     },
     "metadata": {},
     "execution_count": 36
    }
   ],
   "source": [
    "data12=data11.drop_duplicates(['物料长代码'])\n",
    "data12['交货日期'].head(100)"
   ]
  },
  {
   "cell_type": "code",
   "execution_count": 39,
   "metadata": {
    "tags": []
   },
   "outputs": [
    {
     "output_type": "stream",
     "name": "stdout",
     "text": "sucess\n"
    }
   ],
   "source": [
    "data12=data11.drop_duplicates(['物料长代码'],keep=\"first\")\n",
    "data12.to_excel(\"C:/Temp/666.xlsx\")\n",
    "data12=data11.drop_duplicates(['物料长代码'],keep=\"last\")\n",
    "data12.to_excel(\"C:/Temp/667.xlsx\")\n",
    "\n",
    "print('sucess')"
   ]
  },
  {
   "cell_type": "code",
   "execution_count": 27,
   "metadata": {},
   "outputs": [
    {
     "output_type": "execute_result",
     "data": {
      "text/plain": "             交货日期              物料长代码  折合人民币单价  value\n4919   2016/04/21  Z.CHXX.CYXM8S-000     0.95    NaN\n4535   2016/05/20  Z.CHXX.N9NEXB-000     1.20    NaN\n7756   2016/05/20  Z.SMSX.NEXBOX-0N9     0.25    NaN\n4536   2016/06/03  Z.CHXX.CS918X-CYX     1.20    NaN\n4537   2016/06/03  Z.CHXX.M9SXXX-ZSD     1.20    NaN\n...           ...                ...      ...    ...\n4263   2019/05/24  Z.SMSX.A95R2X-HX0     1.50    NaN\n134           NaN                NaN      NaN    NaN\n319           NaN                NaN      NaN    NaN\n362           NaN                NaN      NaN    NaN\n17549         NaN                NaN     0.00    NaN\n\n[17550 rows x 4 columns]",
      "text/html": "<div>\n<style scoped>\n    .dataframe tbody tr th:only-of-type {\n        vertical-align: middle;\n    }\n\n    .dataframe tbody tr th {\n        vertical-align: top;\n    }\n\n    .dataframe thead th {\n        text-align: right;\n    }\n</style>\n<table border=\"1\" class=\"dataframe\">\n  <thead>\n    <tr style=\"text-align: right;\">\n      <th></th>\n      <th>交货日期</th>\n      <th>物料长代码</th>\n      <th>折合人民币单价</th>\n      <th>value</th>\n    </tr>\n  </thead>\n  <tbody>\n    <tr>\n      <th>4919</th>\n      <td>2016/04/21</td>\n      <td>Z.CHXX.CYXM8S-000</td>\n      <td>0.95</td>\n      <td>NaN</td>\n    </tr>\n    <tr>\n      <th>4535</th>\n      <td>2016/05/20</td>\n      <td>Z.CHXX.N9NEXB-000</td>\n      <td>1.20</td>\n      <td>NaN</td>\n    </tr>\n    <tr>\n      <th>7756</th>\n      <td>2016/05/20</td>\n      <td>Z.SMSX.NEXBOX-0N9</td>\n      <td>0.25</td>\n      <td>NaN</td>\n    </tr>\n    <tr>\n      <th>4536</th>\n      <td>2016/06/03</td>\n      <td>Z.CHXX.CS918X-CYX</td>\n      <td>1.20</td>\n      <td>NaN</td>\n    </tr>\n    <tr>\n      <th>4537</th>\n      <td>2016/06/03</td>\n      <td>Z.CHXX.M9SXXX-ZSD</td>\n      <td>1.20</td>\n      <td>NaN</td>\n    </tr>\n    <tr>\n      <th>...</th>\n      <td>...</td>\n      <td>...</td>\n      <td>...</td>\n      <td>...</td>\n    </tr>\n    <tr>\n      <th>4263</th>\n      <td>2019/05/24</td>\n      <td>Z.SMSX.A95R2X-HX0</td>\n      <td>1.50</td>\n      <td>NaN</td>\n    </tr>\n    <tr>\n      <th>134</th>\n      <td>NaN</td>\n      <td>NaN</td>\n      <td>NaN</td>\n      <td>NaN</td>\n    </tr>\n    <tr>\n      <th>319</th>\n      <td>NaN</td>\n      <td>NaN</td>\n      <td>NaN</td>\n      <td>NaN</td>\n    </tr>\n    <tr>\n      <th>362</th>\n      <td>NaN</td>\n      <td>NaN</td>\n      <td>NaN</td>\n      <td>NaN</td>\n    </tr>\n    <tr>\n      <th>17549</th>\n      <td>NaN</td>\n      <td>NaN</td>\n      <td>0.00</td>\n      <td>NaN</td>\n    </tr>\n  </tbody>\n</table>\n<p>17550 rows × 4 columns</p>\n</div>"
     },
     "metadata": {},
     "execution_count": 27
    }
   ],
   "source": [
    "data1.sort_values(by='交货日期')"
   ]
  },
  {
   "cell_type": "code",
   "execution_count": 25,
   "metadata": {},
   "outputs": [
    {
     "output_type": "execute_result",
     "data": {
      "text/plain": "物料长代码\nC.0402.474000-K63     2\nC.0402.475000-K63    11\nC.0402.475001-M63    38\nC.0402.561000-J50    20\nC.0402.56PF00-J50     3\n                     ..\nZ.ZXXX.AK1XXX-001     2\nZ.ZXXX.AK1XXX-ABX     3\nZ.ZXXX.AK1XXX-ZKC     2\nZ.ZXXX.CK1600-000     2\nZ.ZXXX.CK2XXX-100     2\nName: 交货日期, Length: 1619, dtype: int64"
     },
     "metadata": {},
     "execution_count": 25
    }
   ],
   "source": [
    "data2=data1.groupby(['物料长代码'])['交货日期'].count()\n",
    "data3=data2[data2>=2]\n",
    "data3"
   ]
  },
  {
   "cell_type": "code",
   "execution_count": 15,
   "metadata": {},
   "outputs": [
    {
     "output_type": "execute_result",
     "data": {
      "text/plain": "物料长代码              交货日期        折合人民币单价\nA.DDR3.102404-K0F  2018/05/08  8.0        1\nA.DDR3.102404-M0F  2017/12/07  10.0       1\nA.DDR3.102404-MAF  2018/05/08  8.0        1\nA.DDR3.102404-MGF  2018/10/13  7.9        1\nA.DDR3.102404-S2F  2017/11/17  9.8        1\n                                         ..\nZ.ZXXX.X3XXXX-000  2018/07/11  5.2        1\nZ.ZXXX.Y7XXXX-000  2018/10/08  5.3        1\nZ.ZXXX.Y8XXXX-000  2017/08/14  5.1        1\nZ.ZXXX.YAIIXX-HXJ  2018/09/27  4.6        1\nZ.ZXXX.ZZXXXX-001  2018/09/05  2.3        1\nName: 交货日期, Length: 15978, dtype: int64"
     },
     "metadata": {},
     "execution_count": 15
    }
   ],
   "source": [
    "data2=data1.groupby(['物料长代码','交货日期','折合人民币单价'])['交货日期'].count()\n",
    "data2"
   ]
  },
  {
   "cell_type": "code",
   "execution_count": 17,
   "metadata": {},
   "outputs": [
    {
     "output_type": "execute_result",
     "data": {
      "text/plain": "物料长代码              交货日期        折合人民币单价\nC.0402.475000-K63  2018/10/18  0.04500    2\nC.0402.475001-M63  2017/09/14  0.02400    2\n                   2018/06/20  0.07200    2\n                   2018/09/28  0.05000    2\nC.0402.6R8000-J50  2017/03/13  0.00235    2\n                                         ..\nZ.ZXXX.A95XXX-000  2017/03/30  4.10000    2\n                   2018/01/18  5.00000    2\n                   2018/09/01  4.40000    2\n                   2018/10/15  4.40000    2\nZ.ZXXX.AK1XXX-000  2018/03/17  8.60000    2\nName: 交货日期, Length: 1282, dtype: int64"
     },
     "metadata": {},
     "execution_count": 17
    }
   ],
   "source": [
    "data3=data2[data2>=2]\n",
    "data3"
   ]
  },
  {
   "cell_type": "code",
   "execution_count": null,
   "metadata": {},
   "outputs": [],
   "source": []
  }
 ],
 "metadata": {
  "language_info": {
   "codemirror_mode": {
    "name": "ipython",
    "version": 3
   },
   "file_extension": ".py",
   "mimetype": "text/x-python",
   "name": "python",
   "nbconvert_exporter": "python",
   "pygments_lexer": "ipython3",
   "version": "3.7.4-final"
  },
  "orig_nbformat": 2,
  "kernelspec": {
   "name": "python37432bit6a4013f1a8ec4766a4af9787f2730623",
   "display_name": "Python 3.7.4 32-bit"
  }
 },
 "nbformat": 4,
 "nbformat_minor": 2
}