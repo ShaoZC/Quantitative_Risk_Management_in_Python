{
 "nbformat": 4,
 "nbformat_minor": 2,
 "metadata": {
  "language_info": {
   "name": "python",
   "codemirror_mode": {
    "name": "ipython",
    "version": 3
   },
   "version": "3.7.4-final"
  },
  "orig_nbformat": 2,
  "file_extension": ".py",
  "mimetype": "text/x-python",
  "name": "python",
  "npconvert_exporter": "python",
  "pygments_lexer": "ipython3",
  "version": 3,
  "kernelspec": {
   "name": "python3",
   "display_name": "Python 3"
  }
 },
 "cells": [
  {
   "cell_type": "markdown",
   "metadata": {},
   "source": [
    "以下演示使用python处理美国餐厅检查的数据，并完成可视化。"
   ]
  },
  {
   "cell_type": "code",
   "execution_count": 2,
   "metadata": {},
   "outputs": [
    {
     "output_type": "stream",
     "name": "stdout",
     "text": "0         Warewashing facilities not properly installed,...\n1                     Wiping cloths improperly used, stored\n2         Food worker card not available or current, new...\n3                        Inadequate hand washing facilities\n4                                                       NaN\n5         Warewashing facilities not properly installed,...\n6              Inadequate equipment for temperature control\n7         Warewashing facilities not properly installed,...\n8         Improper cold holding temperatures (greater th...\n9                                                       NaN\n10             Inadequate equipment for temperature control\n11                    Wiping cloths improperly used, stored\n12                       Inadequate hand washing facilities\n13        Improper cold holding temperatures (greater th...\n14        Food not protected from potential contaminatio...\n15        Non-food contact surfaces not maintained, clea...\n16                                                      NaN\n17        Non-food contact surfaces not maintained, clea...\n18                       Inadequate hand washing facilities\n19                                                      NaN\n20                    Wiping cloths improperly used, stored\n21        Thermometers not available or used as required...\n22                                                      NaN\n23                                                      NaN\n24                       Inadequate hand washing facilities\n25        Improper cold holding temperatures (greater th...\n26        Warewashing facilities not properly installed,...\n27        Food worker card not available or current, new...\n28                                                      NaN\n29        Food contact surfaces not maintained, clean, s...\n                                ...                        \n190765    Food contact surfaces not maintained, clean, s...\n190766    Warewashing facilities not properly installed,...\n190767    Raw meats, poultry, aquatic foods not stored a...\n190768    Improper cold holding temperatures (greater th...\n190769                                                  NaN\n190770                                                  NaN\n190771                           Improper labeling, signage\n190772                   Inadequate hand washing facilities\n190773    Food not protected from potential contaminatio...\n190774    Non-food contact surfaces not maintained, clea...\n190775                                                  NaN\n190776                                                  NaN\n190777                                                  NaN\n190778    Food not protected from potential contaminatio...\n190779    Physical facilities not properly installed, ma...\n190780                                                  NaN\n190781                                                  NaN\n190782                                                  NaN\n190783                                                  NaN\n190784                                                  NaN\n190785    Improper methods used to prevent bare hand con...\n190786    Food worker card not available or current, new...\n190787                                                  NaN\n190788                Wiping cloths improperly used, stored\n190789                   Inadequate hand washing facilities\n190790                                                  NaN\n190791    Proper Consumer Advisory not posted for raw or...\n190792                                                  NaN\n190793                                                  NaN\n190794                                                  NaN\nName: Violation Description, Length: 190795, dtype: object\n"
    }
   ],
   "source": [
    "file='http://download.microsoft.com/download/A/0/9/A0983C4D-5999-4C33-AFB2-9EC78E70A3D9/food_inspection.xlsx'\n",
    "import pandas\n",
    "food_data=pandas.read_excel(file)\n",
    "print(food_data['Violation Description'])\n",
    ""
   ]
  },
  {
   "cell_type": "code",
   "execution_count": 11,
   "metadata": {
    "tags": [
     "outputPrepend",
     "outputPrepend",
     "outputPrepend",
     "outputPrepend",
     "outputPrepend",
     "outputPrepend",
     "outputPrepend",
     "outputPrepend",
     "outputPrepend",
     "outputPrepend",
     "outputPrepend",
     "outputPrepend",
     "outputPrepend",
     "outputPrepend",
     "outputPrepend",
     "outputPrepend",
     "outputPrepend",
     "outputPrepend",
     "outputPrepend",
     "outputPrepend",
     "outputPrepend",
     "outputPrepend",
     "outputPrepend",
     "outputPrepend",
     "outputPrepend",
     "outputPrepend",
     "outputPrepend",
     "outputPrepend",
     "outputPrepend",
     "outputPrepend",
     "outputPrepend",
     "outputPrepend",
     "outputPrepend",
     "outputPrepend",
     "outputPrepend",
     "outputPrepend",
     "outputPrepend",
     "outputPrepend",
     "outputPrepend",
     "outputPrepend",
     "outputPrepend",
     "outputPrepend",
     "outputPrepend",
     "outputPrepend",
     "outputPrepend",
     "outputPrepend",
     "outputPrepend",
     "outputPrepend",
     "outputPrepend",
     "outputPrepend",
     "outputPrepend",
     "outputPrepend",
     "outputPrepend",
     "outputPrepend",
     "outputPrepend",
     "outputPrepend",
     "outputPrepend",
     "outputPrepend",
     "outputPrepend",
     "outputPrepend",
     "outputPrepend",
     "outputPrepend",
     "outputPrepend",
     "outputPrepend",
     "outputPrepend",
     "outputPrepend",
     "outputPrepend",
     "outputPrepend",
     "outputPrepend",
     "outputPrepend",
     "outputPrepend",
     "outputPrepend",
     "outputPrepend",
     "outputPrepend",
     "outputPrepend",
     "outputPrepend",
     "outputPrepend",
     "outputPrepend",
     "outputPrepend",
     "outputPrepend",
     "outputPrepend",
     "outputPrepend",
     "outputPrepend",
     "outputPrepend",
     "outputPrepend",
     "outputPrepend",
     "outputPrepend",
     "outputPrepend",
     "outputPrepend",
     "outputPrepend",
     "outputPrepend",
     "outputPrepend",
     "outputPrepend",
     "outputPrepend",
     "outputPrepend",
     "outputPrepend",
     "outputPrepend",
     "outputPrepend",
     "outputPrepend",
     "outputPrepend",
     "outputPrepend",
     "outputPrepend",
     "outputPrepend",
     "outputPrepend",
     "outputPrepend"
    ]
   },
   "outputs": [
    {
     "output_type": "stream",
     "name": "stdout",
     "text": "Warewashing facilities not properly installed, maintained, used; no test strips available and used ,Warewashing facilities not properly installed, maintained, used; no test strips available and used\nWiping cloths improperly used, stored ,Warewashing facilities not properly installed, maintained, used; no test strips available and used,Wiping cloths improperly used, stored\nFood worker card not available or current, new food workers not trained ,Warewashing facilities not properly installed, maintained, used; no test strips available and used,Wiping cloths improperly used, stored,Food worker card not available or current, new food workers not trained\nInadequate hand washing facilities ,Warewashing facilities not properly installed, maintained, used; no test strips available and used,Wiping cloths improperly used, stored,Food worker card not available or current, new food workers not trained,Inadequate hand washing facilities\n"
    },
    {
     "output_type": "error",
     "ename": "TypeError",
     "evalue": "can only concatenate str (not \"float\") to str",
     "traceback": [
      "\u001b[1;31m---------------------------------------------------------------------------\u001b[0m",
      "\u001b[1;31mTypeError\u001b[0m                                 Traceback (most recent call last)",
      "\u001b[1;32m<ipython-input-11-7b315700db2f>\u001b[0m in \u001b[0;36m<module>\u001b[1;34m\u001b[0m\n\u001b[0;32m      6\u001b[0m \u001b[1;32mfor\u001b[0m \u001b[0mitem\u001b[0m \u001b[1;32min\u001b[0m \u001b[0mtext\u001b[0m\u001b[1;33m:\u001b[0m\u001b[1;33m\u001b[0m\u001b[1;33m\u001b[0m\u001b[0m\n\u001b[0;32m      7\u001b[0m     \u001b[1;31m# print(item)\u001b[0m\u001b[1;33m\u001b[0m\u001b[1;33m\u001b[0m\u001b[1;33m\u001b[0m\u001b[0m\n\u001b[1;32m----> 8\u001b[1;33m     \u001b[0mtext_1\u001b[0m\u001b[1;33m=\u001b[0m\u001b[0mtext_1\u001b[0m\u001b[1;33m+\u001b[0m\u001b[1;34m','\u001b[0m\u001b[1;33m+\u001b[0m\u001b[0mitem\u001b[0m\u001b[1;33m\u001b[0m\u001b[1;33m\u001b[0m\u001b[0m\n\u001b[0m\u001b[0;32m      9\u001b[0m     \u001b[0mprint\u001b[0m\u001b[1;33m(\u001b[0m\u001b[0mitem\u001b[0m\u001b[1;33m,\u001b[0m\u001b[0mtext_1\u001b[0m\u001b[1;33m)\u001b[0m\u001b[1;33m\u001b[0m\u001b[1;33m\u001b[0m\u001b[0m\n\u001b[0;32m     10\u001b[0m \u001b[1;31m# wordlist_after_jieba = jieba.cut(text_from_file_with_apath, cut_all = True)\u001b[0m\u001b[1;33m\u001b[0m\u001b[1;33m\u001b[0m\u001b[1;33m\u001b[0m\u001b[0m\n",
      "\u001b[1;31mTypeError\u001b[0m: can only concatenate str (not \"float\") to str"
     ]
    }
   ],
   "source": [
    "import matplotlib.pyplot as plt\n",
    "from wordcloud import WordCloud,ImageColorGenerator\n",
    "import jieba\n",
    "text=food_data['Violation Description']\n",
    "text_1=''\n",
    "for item in text:\n",
    "    # print(item)\n",
    "    text_1=text_1+' '+str(item) \n",
    "    print(item,text_1)\n",
    "# wordlist_after_jieba = jieba.cut(text_from_file_with_apath, cut_all = True)\n",
    "# wl_space_split = \" \".join(wordlist_after_jieba)\n",
    "my_wordcloud = WordCloud(background_color = 'white',width = 1000,height = 860,margin = 2).generate(text_1)\n",
    "# my_wordcloud = WordCloud(  \n",
    "#         background_color = 'white', #背景颜色，根据图片背景设置，默认为黑色  \n",
    "#         #mask = backgroup_Image, #笼罩图  \n",
    "#         # font_path = 'C:\\Windows\\Fonts\\STZHONGS.TTF',#若有中文需要设置才会显示中文  \n",
    "#         width = 1000,  \n",
    "#         height = 860,  \n",
    "#         margin = 2).generate(text) # generate 可以对全部文本进行自动分词  \n",
    "# #参数 width，height，margin分别对应宽度像素，长度像素，边缘空白处  \n",
    "plt.imshow(my_wordcloud)\n",
    "plt.axis(\"off\")\n",
    "plt.show()\n",
    "#保存图片：默认为此代码保存的路径  \n",
    "wordcloud.to_file('food_inspection.jpg')"
   ]
  },
  {
   "cell_type": "code",
   "execution_count": null,
   "metadata": {},
   "outputs": [],
   "source": [
    "my_wordcloud = WordCloud(background_color = 'white',width = 1000,height = 860,margin = 2).generate(text_1)\n",
    "# my_wordcloud = WordCloud(  \n",
    "#         background_color = 'white', #背景颜色，根据图片背景设置，默认为黑色  \n",
    "#         #mask = backgroup_Image, #笼罩图  \n",
    "#         # font_path = 'C:\\Windows\\Fonts\\STZHONGS.TTF',#若有中文需要设置才会显示中文  \n",
    "#         width = 1000,  \n",
    "#         height = 860,  \n",
    "#         margin = 2).generate(text) # generate 可以对全部文本进行自动分词  \n",
    "# #参数 width，height，margin分别对应宽度像素，长度像素，边缘空白处  \n",
    "plt.imshow(my_wordcloud)\n",
    "plt.axis(\"off\")\n",
    "plt.show()\n",
    "#保存图片：默认为此代码保存的路径  \n",
    "wordcloud.to_file('food_inspection.jpg')"
   ]
  },
  {
   "cell_type": "code",
   "execution_count": null,
   "metadata": {},
   "outputs": [],
   "source": [
    "print(\"success\")"
   ]
  },
  {
   "cell_type": "code",
   "execution_count": null,
   "metadata": {},
   "outputs": [],
   "source": []
  }
 ]
}