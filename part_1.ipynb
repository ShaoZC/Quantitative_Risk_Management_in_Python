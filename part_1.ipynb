{
 "cells": [
  {
   "cell_type": "markdown",
   "metadata": {},
   "source": [
    "# 投资组合理论 马克维茨均值方差模型 CAPM"
   ]
  },
  {
   "cell_type": "markdown",
   "metadata": {},
   "source": [
    "1. 投资者在考虑每一次投资选择时，其依据是某一持仓时间内的证券收益的概率分布。\n",
    "2. 投资者是根据证券的期望收益率的方差或标准差估测证券组合的风险。\n",
    "3. 投资者的决定仅仅是依据证券的风险和收益。\n",
    "4. 在一定的风险水平上，投资者期望收益最大；相对应的是在一定的收益水平上，投资者希望风险最小。"
   ]
  },
  {
   "cell_type": "markdown",
   "metadata": {},
   "source": [
    "## 使用Python的numpy和pandas来计算方差和标准差"
   ]
  },
  {
   "cell_type": "code",
   "execution_count": 9,
   "metadata": {
    "pycharm": {
     "is_executing": false
    }
   },
   "outputs": [
    {
     "name": "stdout",
     "output_type": "stream",
     "text": [
      "var is 0.00081875\n",
      "std is 0.028613807855648994\n"
     ]
    }
   ],
   "source": [
    "import numpy as np\n",
    "R = [0.01, 0.05, 0.02, -0.03]\n",
    "var1 = np.var(R)\n",
    "std1 = np.std(R)\n",
    "print('var is', var1)\n",
    "print('std is', std1)"
   ]
  },
  {
   "cell_type": "markdown",
   "metadata": {},
   "source": [
    "## 引入股票数据"
   ]
  },
  {
   "cell_type": "code",
   "execution_count": 2,
   "metadata": {
    "pycharm": {
     "is_executing": true
    }
   },
   "outputs": [
    {
     "name": "stderr",
     "output_type": "stream",
     "text": [
      "'#' 不是内部或外部命令，也不是可运行的程序\n",
      "或批处理文件。\n"
     ]
    },
    {
     "ename": "ModuleNotFoundError",
     "evalue": "No module named 'pandas_datareader'",
     "output_type": "error",
     "traceback": [
      "\u001b[1;31m---------------------------------------------------------------------------\u001b[0m",
      "\u001b[1;31mModuleNotFoundError\u001b[0m                       Traceback (most recent call last)",
      "\u001b[1;32m<ipython-input-2-c19f6798d938>\u001b[0m in \u001b[0;36m<module>\u001b[1;34m\u001b[0m\n\u001b[0;32m      1\u001b[0m \u001b[0mget_ipython\u001b[0m\u001b[1;33m(\u001b[0m\u001b[1;33m)\u001b[0m\u001b[1;33m.\u001b[0m\u001b[0msystem\u001b[0m\u001b[1;33m(\u001b[0m\u001b[1;34m' #/usr/bin/python3'\u001b[0m\u001b[1;33m)\u001b[0m\u001b[1;33m\u001b[0m\u001b[1;33m\u001b[0m\u001b[0m\n\u001b[0;32m      2\u001b[0m \u001b[1;32mimport\u001b[0m \u001b[0mpandas\u001b[0m \u001b[1;32mas\u001b[0m \u001b[0mpd\u001b[0m\u001b[1;33m\u001b[0m\u001b[1;33m\u001b[0m\u001b[0m\n\u001b[1;32m----> 3\u001b[1;33m \u001b[1;32mfrom\u001b[0m \u001b[0mpandas_datareader\u001b[0m \u001b[1;32mimport\u001b[0m \u001b[0mdata\u001b[0m\u001b[1;33m\u001b[0m\u001b[1;33m\u001b[0m\u001b[0m\n\u001b[0m\u001b[0;32m      4\u001b[0m \u001b[1;32mimport\u001b[0m \u001b[0mdatetime\u001b[0m\u001b[1;33m\u001b[0m\u001b[1;33m\u001b[0m\u001b[0m\n\u001b[0;32m      5\u001b[0m \u001b[1;33m\u001b[0m\u001b[0m\n",
      "\u001b[1;31mModuleNotFoundError\u001b[0m: No module named 'pandas_datareader'"
     ]
    }
   ],
   "source": [
    "! #/usr/bin/python3\n",
    "import pandas as pd\n",
    "from pandas_datareader import data\n",
    "import datetime\n",
    " \n",
    "start = datetime.datetime(2016,1,1)\n",
    "end = datetime.date.today()\n",
    "apple = data.DataReader(\"AAPL\", \"yahoo\", start, end)\n",
    "#type(apple)\n",
    "apple.head()"
   ]
  },
  {
   "cell_type": "markdown",
   "metadata": {},
   "source": [
    "# 获取A股K线数据"
   ]
  },
  {
   "cell_type": "code",
   "execution_count": null,
   "metadata": {
    "pycharm": {
     "is_executing": true
    }
   },
   "outputs": [],
   "source": [
    "import baostock as bs\n",
    "import pandas as pd\n",
    "\n",
    "#### 登陆系统 ####\n",
    "lg = bs.login()\n",
    "# 显示登陆返回信息\n",
    "print('login respond error_code:'+lg.error_code)\n",
    "print('login respond  error_msg:'+lg.error_msg)\n",
    "\n",
    "#### 获取沪深A股历史K线数据 ####\n",
    "# 详细指标参数，参见“历史行情指标参数”章节；“分钟线”参数与“日线”参数不同。\n",
    "# 分钟线指标：date,time,code,open,high,low,close,volume,amount,adjustflag\n",
    "rs = bs.query_history_k_data_plus(\"sh.600000\",\n",
    "    \"date,code,open,high,low,close,preclose,volume,amount,adjustflag,turn,tradestatus,pctChg,isST\",\n",
    "    start_date='2017-07-01', end_date='2017-12-31',\n",
    "    frequency=\"d\", adjustflag=\"3\")\n",
    "print('query_history_k_data_plus respond error_code:'+rs.error_code)\n",
    "print('query_history_k_data_plus respond  error_msg:'+rs.error_msg)\n",
    "\n",
    "#### 打印结果集 ####\n",
    "data_list = []\n",
    "while (rs.error_code == '0') & rs.next():\n",
    "    # 获取一条记录，将记录合并在一起\n",
    "    data_list.append(rs.get_row_data())\n",
    "result = pd.DataFrame(data_list, columns=rs.fields)\n",
    "\n",
    "#### 结果集输出到csv文件 ####   \n",
    "result.to_csv(\"D:\\\\history_A_stock_k_data.csv\", index=False)\n",
    "print(result)\n",
    "\n",
    "#### 登出系统 ####\n",
    "bs.logout()"
   ]
  },
  {
   "cell_type": "markdown",
   "metadata": {},
   "source": [
    "## 指数数据\n",
    "\n",
    "1. 综合指数，例如：sh.000001 上证指数，sz.399106 深证综指 等；\n",
    "2. 规模指数，例如：sh.000016 上证50，sh.000300 沪深300，sh.000905 中证500，sz.399001 深证成指等；\n",
    "3. 一级行业指数，例如：sh.000037 上证医药，sz.399433 国证交运 等；\n",
    "4. 二级行业指数，例如：sh.000952 300地产，sz.399951 300银行 等；\n",
    "5. 策略指数，例如：sh.000050 50等权，sh.000982 500等权 等；\n",
    "6. 成长指数，例如：sz.399376 小盘成长 等；\n",
    "7. 价值指数，例如：sh.000029 180价值 等；\n",
    "8. 主题指数，例如：sh.000015 红利指数，sh.000063 上证周期 等；\n",
    "9. 基金指数，例如：sh.000011 上证基金指数 等；\n",
    "10. 债券指数，例如：sh.000012 上证国债指数 等；"
   ]
  },
  {
   "cell_type": "code",
   "execution_count": null,
   "metadata": {
    "pycharm": {
     "is_executing": true
    }
   },
   "outputs": [],
   "source": [
    "import baostock as bs\n",
    "import pandas as pd\n",
    "\n",
    "# 登陆系统\n",
    "lg = bs.login()\n",
    "# 显示登陆返回信息\n",
    "print('login respond error_code:'+lg.error_code)\n",
    "print('login respond  error_msg:'+lg.error_msg)\n",
    "\n",
    "# 获取指数(综合指数、规模指数、一级行业指数、二级行业指数、策略指数、成长指数、价值指数、主题指数)K线数据\n",
    "# 综合指数，例如：sh.000001 上证指数，sz.399106 深证综指 等；\n",
    "# 规模指数，例如：sh.000016 上证50，sh.000300 沪深300，sh.000905 中证500，sz.399001 深证成指等；\n",
    "# 一级行业指数，例如：sh.000037 上证医药，sz.399433 国证交运 等；\n",
    "# 二级行业指数，例如：sh.000952 300地产，sz.399951 300银行 等；\n",
    "# 策略指数，例如：sh.000050 50等权，sh.000982 500等权 等；\n",
    "# 成长指数，例如：sz.399376 小盘成长 等；\n",
    "# 价值指数，例如：sh.000029 180价值 等；\n",
    "# 主题指数，例如：sh.000015 红利指数，sh.000063 上证周期 等；\n",
    "\n",
    "# 详细指标参数，参见“历史行情指标参数”章节\n",
    "rs = bs.query_history_k_data_plus(\"sh.000001\",\n",
    "    \"date,code,open,high,low,close,preclose,volume,amount,pctChg\",\n",
    "    start_date='2017-01-01', end_date='2017-06-30', frequency=\"d\")\n",
    "print('query_history_k_data_plus respond error_code:'+rs.error_code)\n",
    "print('query_history_k_data_plus respond  error_msg:'+rs.error_msg)\n",
    "\n",
    "# 打印结果集\n",
    "data_list = []\n",
    "while (rs.error_code == '0') & rs.next():\n",
    "    # 获取一条记录，将记录合并在一起\n",
    "    data_list.append(rs.get_row_data())\n",
    "result = pd.DataFrame(data_list, columns=rs.fields)\n",
    "# 结果集输出到csv文件\n",
    "result.to_csv(\"D:\\\\history_Index_k_data.csv\", index=False)\n",
    "print(result)\n",
    "\n",
    "# 登出系统\n",
    "bs.logout()"
   ]
  }
 ],
 "metadata": {
  "file_extension": ".py",
  "kernelspec": {
   "display_name": "Python 3",
   "language": "python",
   "name": "python3"
  },
  "language_info": {
   "codemirror_mode": {
    "name": "ipython",
    "version": 3
   },
   "file_extension": ".py",
   "mimetype": "text/x-python",
   "name": "python",
   "nbconvert_exporter": "python",
   "pygments_lexer": "ipython3",
   "version": "3.7.3"
  },
  "mimetype": "text/x-python",
  "name": "python",
  "npconvert_exporter": "python",
  "pycharm": {
   "stem_cell": {
    "cell_type": "raw",
    "source": [],
    "metadata": {
     "collapsed": false
    }
   }
  },
  "pygments_lexer": "ipython3",
  "version": 3
 },
 "nbformat": 4,
 "nbformat_minor": 2
}