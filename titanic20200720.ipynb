{
 "metadata": {
  "language_info": {
   "codemirror_mode": {
    "name": "ipython",
    "version": 3
   },
   "file_extension": ".py",
   "mimetype": "text/x-python",
   "name": "python",
   "nbconvert_exporter": "python",
   "pygments_lexer": "ipython3",
   "version": "3.8.4-final"
  },
  "orig_nbformat": 2,
  "kernelspec": {
   "name": "python38464bit9379dd402be645a4a272fa7043f0c61f",
   "display_name": "Python 3.8.4 64-bit"
  }
 },
 "nbformat": 4,
 "nbformat_minor": 2,
 "cells": [
  {
   "cell_type": "code",
   "execution_count": 2,
   "metadata": {},
   "outputs": [],
   "source": [
    "import pandas\n",
    "test=pandas.read_csv('titanic/test.csv')\n",
    "train=pandas.read_csv('titanic/train.csv')"
   ]
  },
  {
   "cell_type": "code",
   "execution_count": 3,
   "metadata": {},
   "outputs": [],
   "source": [
    "full=train.append(test,ignore_index=True)\n",
    "# full"
   ]
  },
  {
   "cell_type": "code",
   "execution_count": 4,
   "metadata": {},
   "outputs": [],
   "source": [
    "# 填充缺失值\n",
    "full['Age']=full['Age'].fillna(full['Age'].mean())\n",
    "full['Fare']=full['Fare'].fillna(full['Fare'].mean())\n",
    "full['Embarked']=full['Embarked'].fillna('S')\n",
    "full['Cabin']=full['Cabin'].fillna('U')\n",
    "# full['Fare']\n",
    "# full['Age']"
   ]
  },
  {
   "cell_type": "code",
   "execution_count": 16,
   "metadata": {},
   "outputs": [],
   "source": [
    "# full['Cabin'].head(100)"
   ]
  },
  {
   "cell_type": "code",
   "execution_count": 5,
   "metadata": {},
   "outputs": [],
   "source": [
    "# 特征工程\n",
    "# 性别Sex\n",
    "sexdf1=pandas.DataFrame()\n",
    "sexdf1=pandas.get_dummies(full['Sex'],prefix='Sex')\n",
    "# sexdf1.head()\n",
    "\n",
    "# Cabin\n",
    "cabindf=pandas.DataFrame()\n",
    "full['Cabin']=full['Cabin'].map(lambda c:c[0])\n",
    "cabindf=pandas.get_dummies(full['Cabin'],prefix='Cabin')\n",
    "\n",
    "# Embarked\n",
    "embarkeddf=pandas.DataFrame()\n",
    "embarkeddf=pandas.get_dummies(full['Embarked'],prefix='Embarked')\n",
    "# embarkeddf.head()\n",
    "\n",
    "#PClass\n",
    "pclassdf=pandas.DataFrame()\n",
    "pclassdf=pandas.get_dummies(full['Pclass'],prefix='Pclass')\n",
    "\n"
   ]
  },
  {
   "cell_type": "code",
   "execution_count": 19,
   "metadata": {},
   "outputs": [],
   "source": [
    "# corrdf=full.corr()"
   ]
  },
  {
   "cell_type": "code",
   "execution_count": 6,
   "metadata": {},
   "outputs": [],
   "source": [
    "import pandas\n",
    "full1=pandas.concat([full['Age'],full['PassengerId'],pclassdf,cabindf,full['Fare'],embarkeddf,sexdf1,full['Survived']],axis=1)\n",
    "# traindf=full1.loc[0:890,:]\n",
    "corrdf1=full1.corr()\n",
    "# corrdf1"
   ]
  },
  {
   "cell_type": "code",
   "execution_count": 24,
   "metadata": {},
   "outputs": [
    {
     "output_type": "execute_result",
     "data": {
      "text/plain": "Survived       1.000000\nSex_female     0.543351\nPclass_1       0.285904\nFare           0.257307\nCabin_B        0.175095\nEmbarked_C     0.168240\nCabin_D        0.150716\nCabin_E        0.145321\nCabin_C        0.114652\nPclass_2       0.093349\nCabin_F        0.057935\nCabin_A        0.022287\nCabin_G        0.016040\nEmbarked_Q     0.003650\nPassengerId   -0.005007\nCabin_T       -0.026456\nAge           -0.070323\nEmbarked_S    -0.149683\nCabin_U       -0.316912\nPclass_3      -0.322308\nSex_male      -0.543351\nName: Survived, dtype: float64"
     },
     "metadata": {},
     "execution_count": 24
    }
   ],
   "source": [
    "corrdf1['Survived'].sort_values(ascending=False)"
   ]
  },
  {
   "cell_type": "code",
   "execution_count": 7,
   "metadata": {},
   "outputs": [
    {
     "output_type": "execute_result",
     "data": {
      "text/plain": "           Age  PassengerId  Pclass_1  Pclass_2  Pclass_3  Cabin_A  Cabin_B  \\\n0    22.000000            1         0         0         1        0        0   \n1    38.000000            2         1         0         0        0        0   \n2    26.000000            3         0         0         1        0        0   \n3    35.000000            4         1         0         0        0        0   \n4    35.000000            5         0         0         1        0        0   \n..         ...          ...       ...       ...       ...      ...      ...   \n886  27.000000          887         0         1         0        0        0   \n887  19.000000          888         1         0         0        0        1   \n888  29.881138          889         0         0         1        0        0   \n889  26.000000          890         1         0         0        0        0   \n890  32.000000          891         0         0         1        0        0   \n\n     Cabin_C  Cabin_D  Cabin_E  ...  Cabin_G  Cabin_T  Cabin_U     Fare  \\\n0          0        0        0  ...        0        0        1   7.2500   \n1          1        0        0  ...        0        0        0  71.2833   \n2          0        0        0  ...        0        0        1   7.9250   \n3          1        0        0  ...        0        0        0  53.1000   \n4          0        0        0  ...        0        0        1   8.0500   \n..       ...      ...      ...  ...      ...      ...      ...      ...   \n886        0        0        0  ...        0        0        1  13.0000   \n887        0        0        0  ...        0        0        0  30.0000   \n888        0        0        0  ...        0        0        1  23.4500   \n889        1        0        0  ...        0        0        0  30.0000   \n890        0        0        0  ...        0        0        1   7.7500   \n\n     Embarked_C  Embarked_Q  Embarked_S  Sex_female  Sex_male  Survived  \n0             0           0           1           0         1       0.0  \n1             1           0           0           1         0       1.0  \n2             0           0           1           1         0       1.0  \n3             0           0           1           1         0       1.0  \n4             0           0           1           0         1       0.0  \n..          ...         ...         ...         ...       ...       ...  \n886           0           0           1           0         1       0.0  \n887           0           0           1           1         0       1.0  \n888           0           0           1           1         0       0.0  \n889           1           0           0           0         1       1.0  \n890           0           1           0           0         1       0.0  \n\n[891 rows x 21 columns]",
      "text/html": "<div>\n<style scoped>\n    .dataframe tbody tr th:only-of-type {\n        vertical-align: middle;\n    }\n\n    .dataframe tbody tr th {\n        vertical-align: top;\n    }\n\n    .dataframe thead th {\n        text-align: right;\n    }\n</style>\n<table border=\"1\" class=\"dataframe\">\n  <thead>\n    <tr style=\"text-align: right;\">\n      <th></th>\n      <th>Age</th>\n      <th>PassengerId</th>\n      <th>Pclass_1</th>\n      <th>Pclass_2</th>\n      <th>Pclass_3</th>\n      <th>Cabin_A</th>\n      <th>Cabin_B</th>\n      <th>Cabin_C</th>\n      <th>Cabin_D</th>\n      <th>Cabin_E</th>\n      <th>...</th>\n      <th>Cabin_G</th>\n      <th>Cabin_T</th>\n      <th>Cabin_U</th>\n      <th>Fare</th>\n      <th>Embarked_C</th>\n      <th>Embarked_Q</th>\n      <th>Embarked_S</th>\n      <th>Sex_female</th>\n      <th>Sex_male</th>\n      <th>Survived</th>\n    </tr>\n  </thead>\n  <tbody>\n    <tr>\n      <th>0</th>\n      <td>22.000000</td>\n      <td>1</td>\n      <td>0</td>\n      <td>0</td>\n      <td>1</td>\n      <td>0</td>\n      <td>0</td>\n      <td>0</td>\n      <td>0</td>\n      <td>0</td>\n      <td>...</td>\n      <td>0</td>\n      <td>0</td>\n      <td>1</td>\n      <td>7.2500</td>\n      <td>0</td>\n      <td>0</td>\n      <td>1</td>\n      <td>0</td>\n      <td>1</td>\n      <td>0.0</td>\n    </tr>\n    <tr>\n      <th>1</th>\n      <td>38.000000</td>\n      <td>2</td>\n      <td>1</td>\n      <td>0</td>\n      <td>0</td>\n      <td>0</td>\n      <td>0</td>\n      <td>1</td>\n      <td>0</td>\n      <td>0</td>\n      <td>...</td>\n      <td>0</td>\n      <td>0</td>\n      <td>0</td>\n      <td>71.2833</td>\n      <td>1</td>\n      <td>0</td>\n      <td>0</td>\n      <td>1</td>\n      <td>0</td>\n      <td>1.0</td>\n    </tr>\n    <tr>\n      <th>2</th>\n      <td>26.000000</td>\n      <td>3</td>\n      <td>0</td>\n      <td>0</td>\n      <td>1</td>\n      <td>0</td>\n      <td>0</td>\n      <td>0</td>\n      <td>0</td>\n      <td>0</td>\n      <td>...</td>\n      <td>0</td>\n      <td>0</td>\n      <td>1</td>\n      <td>7.9250</td>\n      <td>0</td>\n      <td>0</td>\n      <td>1</td>\n      <td>1</td>\n      <td>0</td>\n      <td>1.0</td>\n    </tr>\n    <tr>\n      <th>3</th>\n      <td>35.000000</td>\n      <td>4</td>\n      <td>1</td>\n      <td>0</td>\n      <td>0</td>\n      <td>0</td>\n      <td>0</td>\n      <td>1</td>\n      <td>0</td>\n      <td>0</td>\n      <td>...</td>\n      <td>0</td>\n      <td>0</td>\n      <td>0</td>\n      <td>53.1000</td>\n      <td>0</td>\n      <td>0</td>\n      <td>1</td>\n      <td>1</td>\n      <td>0</td>\n      <td>1.0</td>\n    </tr>\n    <tr>\n      <th>4</th>\n      <td>35.000000</td>\n      <td>5</td>\n      <td>0</td>\n      <td>0</td>\n      <td>1</td>\n      <td>0</td>\n      <td>0</td>\n      <td>0</td>\n      <td>0</td>\n      <td>0</td>\n      <td>...</td>\n      <td>0</td>\n      <td>0</td>\n      <td>1</td>\n      <td>8.0500</td>\n      <td>0</td>\n      <td>0</td>\n      <td>1</td>\n      <td>0</td>\n      <td>1</td>\n      <td>0.0</td>\n    </tr>\n    <tr>\n      <th>...</th>\n      <td>...</td>\n      <td>...</td>\n      <td>...</td>\n      <td>...</td>\n      <td>...</td>\n      <td>...</td>\n      <td>...</td>\n      <td>...</td>\n      <td>...</td>\n      <td>...</td>\n      <td>...</td>\n      <td>...</td>\n      <td>...</td>\n      <td>...</td>\n      <td>...</td>\n      <td>...</td>\n      <td>...</td>\n      <td>...</td>\n      <td>...</td>\n      <td>...</td>\n      <td>...</td>\n    </tr>\n    <tr>\n      <th>886</th>\n      <td>27.000000</td>\n      <td>887</td>\n      <td>0</td>\n      <td>1</td>\n      <td>0</td>\n      <td>0</td>\n      <td>0</td>\n      <td>0</td>\n      <td>0</td>\n      <td>0</td>\n      <td>...</td>\n      <td>0</td>\n      <td>0</td>\n      <td>1</td>\n      <td>13.0000</td>\n      <td>0</td>\n      <td>0</td>\n      <td>1</td>\n      <td>0</td>\n      <td>1</td>\n      <td>0.0</td>\n    </tr>\n    <tr>\n      <th>887</th>\n      <td>19.000000</td>\n      <td>888</td>\n      <td>1</td>\n      <td>0</td>\n      <td>0</td>\n      <td>0</td>\n      <td>1</td>\n      <td>0</td>\n      <td>0</td>\n      <td>0</td>\n      <td>...</td>\n      <td>0</td>\n      <td>0</td>\n      <td>0</td>\n      <td>30.0000</td>\n      <td>0</td>\n      <td>0</td>\n      <td>1</td>\n      <td>1</td>\n      <td>0</td>\n      <td>1.0</td>\n    </tr>\n    <tr>\n      <th>888</th>\n      <td>29.881138</td>\n      <td>889</td>\n      <td>0</td>\n      <td>0</td>\n      <td>1</td>\n      <td>0</td>\n      <td>0</td>\n      <td>0</td>\n      <td>0</td>\n      <td>0</td>\n      <td>...</td>\n      <td>0</td>\n      <td>0</td>\n      <td>1</td>\n      <td>23.4500</td>\n      <td>0</td>\n      <td>0</td>\n      <td>1</td>\n      <td>1</td>\n      <td>0</td>\n      <td>0.0</td>\n    </tr>\n    <tr>\n      <th>889</th>\n      <td>26.000000</td>\n      <td>890</td>\n      <td>1</td>\n      <td>0</td>\n      <td>0</td>\n      <td>0</td>\n      <td>0</td>\n      <td>1</td>\n      <td>0</td>\n      <td>0</td>\n      <td>...</td>\n      <td>0</td>\n      <td>0</td>\n      <td>0</td>\n      <td>30.0000</td>\n      <td>1</td>\n      <td>0</td>\n      <td>0</td>\n      <td>0</td>\n      <td>1</td>\n      <td>1.0</td>\n    </tr>\n    <tr>\n      <th>890</th>\n      <td>32.000000</td>\n      <td>891</td>\n      <td>0</td>\n      <td>0</td>\n      <td>1</td>\n      <td>0</td>\n      <td>0</td>\n      <td>0</td>\n      <td>0</td>\n      <td>0</td>\n      <td>...</td>\n      <td>0</td>\n      <td>0</td>\n      <td>1</td>\n      <td>7.7500</td>\n      <td>0</td>\n      <td>1</td>\n      <td>0</td>\n      <td>0</td>\n      <td>1</td>\n      <td>0.0</td>\n    </tr>\n  </tbody>\n</table>\n<p>891 rows × 21 columns</p>\n</div>"
     },
     "metadata": {},
     "execution_count": 7
    }
   ],
   "source": [
    "traindf\n",
    "# https://zhuanlan.zhihu.com/p/40398646"
   ]
  },
  {
   "cell_type": "code",
   "execution_count": 15,
   "metadata": {
    "tags": []
   },
   "outputs": [
    {
     "output_type": "stream",
     "name": "stdout",
     "text": "success\n"
    }
   ],
   "source": [
    "import sklearn.model_selection\n",
    "from sklearn.model_selection import train_test_split\n",
    "# from sklearn.cross_validation import train_test_split\n",
    "# sourcex=full1.loc[0:890,:]\n",
    "# sourcey=full1.loc[0:890,'Survived']\n",
    "# predx=full1.loc[891:,:]\n",
    "# trainx,testx,trainy,testy=train_test_split(sourcex,sourcey,train_size=0.8)\n",
    "\n",
    "traindf=full1.loc[:890,:]\n",
    "surviveddf=full1['Survived']\n",
    "traindf.drop(columns=\"Survived\",inplace=True)\n",
    "traindf.insert(0,\"Survived\",surviveddf)\n",
    "# columns_selcd=['Pclass_1']\n",
    "columns_selcd=['Sex_female','Pclass_1','Fare','Cabin_B','Embarked_C','Cabin_D','Cabin_E','Cabin_C','Pclass_2','Cabin_F','Cabin_A','Cabin_G','Embarked_Q','PassengerId','Cabin_T','Age','Embarked_S','Cabin_U','Pclass_3','Sex_male','Pclass_2','Cabin_F','Cabin_A','Cabin_G','Embarked_Q','PassengerId','Cabin_T','Age','Embarked_S','Cabin_U','Pclass_3','Sex_male']\n",
    "features_selcd=traindf[columns_selcd]\n",
    "lables=traindf['Survived']\n",
    "trainx,testx,trainy,testy=train_test_split(features_selcd,lables,train_size=0.8)\n",
    "print('success')"
   ]
  },
  {
   "cell_type": "code",
   "execution_count": 16,
   "metadata": {},
   "outputs": [
    {
     "output_type": "execute_result",
     "data": {
      "text/plain": "82.68"
     },
     "metadata": {},
     "execution_count": 16
    }
   ],
   "source": [
    "from sklearn.linear_model import LogisticRegression\n",
    "model=LogisticRegression()\n",
    "model.fit(trainx,trainy)\n",
    "predictionlr=model.predict(testx)\n",
    "predictionlr[:5]\n",
    "from sklearn.metrics import accuracy_score\n",
    "round(accuracy_score(predictionlr,testy)*100,2)"
   ]
  },
  {
   "cell_type": "code",
   "execution_count": 19,
   "metadata": {},
   "outputs": [
    {
     "output_type": "execute_result",
     "data": {
      "text/plain": "            Age  PassengerId  Pclass_1  Pclass_2  Pclass_3  Cabin_A  Cabin_B  \\\n891   34.500000          892         0         0         1        0        0   \n892   47.000000          893         0         0         1        0        0   \n893   62.000000          894         0         1         0        0        0   \n894   27.000000          895         0         0         1        0        0   \n895   22.000000          896         0         0         1        0        0   \n...         ...          ...       ...       ...       ...      ...      ...   \n1304  29.881138         1305         0         0         1        0        0   \n1305  39.000000         1306         1         0         0        0        0   \n1306  38.500000         1307         0         0         1        0        0   \n1307  29.881138         1308         0         0         1        0        0   \n1308  29.881138         1309         0         0         1        0        0   \n\n      Cabin_C  Cabin_D  Cabin_E  Cabin_F  Cabin_G  Cabin_T  Cabin_U      Fare  \\\n891         0        0        0        0        0        0        1    7.8292   \n892         0        0        0        0        0        0        1    7.0000   \n893         0        0        0        0        0        0        1    9.6875   \n894         0        0        0        0        0        0        1    8.6625   \n895         0        0        0        0        0        0        1   12.2875   \n...       ...      ...      ...      ...      ...      ...      ...       ...   \n1304        0        0        0        0        0        0        1    8.0500   \n1305        1        0        0        0        0        0        0  108.9000   \n1306        0        0        0        0        0        0        1    7.2500   \n1307        0        0        0        0        0        0        1    8.0500   \n1308        0        0        0        0        0        0        1   22.3583   \n\n      Embarked_C  Embarked_Q  Embarked_S  Sex_female  Sex_male  \n891            0           1           0           0         1  \n892            0           0           1           1         0  \n893            0           1           0           0         1  \n894            0           0           1           0         1  \n895            0           0           1           1         0  \n...          ...         ...         ...         ...       ...  \n1304           0           0           1           0         1  \n1305           1           0           0           1         0  \n1306           0           0           1           0         1  \n1307           0           0           1           0         1  \n1308           1           0           0           0         1  \n\n[418 rows x 20 columns]",
      "text/html": "<div>\n<style scoped>\n    .dataframe tbody tr th:only-of-type {\n        vertical-align: middle;\n    }\n\n    .dataframe tbody tr th {\n        vertical-align: top;\n    }\n\n    .dataframe thead th {\n        text-align: right;\n    }\n</style>\n<table border=\"1\" class=\"dataframe\">\n  <thead>\n    <tr style=\"text-align: right;\">\n      <th></th>\n      <th>Age</th>\n      <th>PassengerId</th>\n      <th>Pclass_1</th>\n      <th>Pclass_2</th>\n      <th>Pclass_3</th>\n      <th>Cabin_A</th>\n      <th>Cabin_B</th>\n      <th>Cabin_C</th>\n      <th>Cabin_D</th>\n      <th>Cabin_E</th>\n      <th>Cabin_F</th>\n      <th>Cabin_G</th>\n      <th>Cabin_T</th>\n      <th>Cabin_U</th>\n      <th>Fare</th>\n      <th>Embarked_C</th>\n      <th>Embarked_Q</th>\n      <th>Embarked_S</th>\n      <th>Sex_female</th>\n      <th>Sex_male</th>\n    </tr>\n  </thead>\n  <tbody>\n    <tr>\n      <th>891</th>\n      <td>34.500000</td>\n      <td>892</td>\n      <td>0</td>\n      <td>0</td>\n      <td>1</td>\n      <td>0</td>\n      <td>0</td>\n      <td>0</td>\n      <td>0</td>\n      <td>0</td>\n      <td>0</td>\n      <td>0</td>\n      <td>0</td>\n      <td>1</td>\n      <td>7.8292</td>\n      <td>0</td>\n      <td>1</td>\n      <td>0</td>\n      <td>0</td>\n      <td>1</td>\n    </tr>\n    <tr>\n      <th>892</th>\n      <td>47.000000</td>\n      <td>893</td>\n      <td>0</td>\n      <td>0</td>\n      <td>1</td>\n      <td>0</td>\n      <td>0</td>\n      <td>0</td>\n      <td>0</td>\n      <td>0</td>\n      <td>0</td>\n      <td>0</td>\n      <td>0</td>\n      <td>1</td>\n      <td>7.0000</td>\n      <td>0</td>\n      <td>0</td>\n      <td>1</td>\n      <td>1</td>\n      <td>0</td>\n    </tr>\n    <tr>\n      <th>893</th>\n      <td>62.000000</td>\n      <td>894</td>\n      <td>0</td>\n      <td>1</td>\n      <td>0</td>\n      <td>0</td>\n      <td>0</td>\n      <td>0</td>\n      <td>0</td>\n      <td>0</td>\n      <td>0</td>\n      <td>0</td>\n      <td>0</td>\n      <td>1</td>\n      <td>9.6875</td>\n      <td>0</td>\n      <td>1</td>\n      <td>0</td>\n      <td>0</td>\n      <td>1</td>\n    </tr>\n    <tr>\n      <th>894</th>\n      <td>27.000000</td>\n      <td>895</td>\n      <td>0</td>\n      <td>0</td>\n      <td>1</td>\n      <td>0</td>\n      <td>0</td>\n      <td>0</td>\n      <td>0</td>\n      <td>0</td>\n      <td>0</td>\n      <td>0</td>\n      <td>0</td>\n      <td>1</td>\n      <td>8.6625</td>\n      <td>0</td>\n      <td>0</td>\n      <td>1</td>\n      <td>0</td>\n      <td>1</td>\n    </tr>\n    <tr>\n      <th>895</th>\n      <td>22.000000</td>\n      <td>896</td>\n      <td>0</td>\n      <td>0</td>\n      <td>1</td>\n      <td>0</td>\n      <td>0</td>\n      <td>0</td>\n      <td>0</td>\n      <td>0</td>\n      <td>0</td>\n      <td>0</td>\n      <td>0</td>\n      <td>1</td>\n      <td>12.2875</td>\n      <td>0</td>\n      <td>0</td>\n      <td>1</td>\n      <td>1</td>\n      <td>0</td>\n    </tr>\n    <tr>\n      <th>...</th>\n      <td>...</td>\n      <td>...</td>\n      <td>...</td>\n      <td>...</td>\n      <td>...</td>\n      <td>...</td>\n      <td>...</td>\n      <td>...</td>\n      <td>...</td>\n      <td>...</td>\n      <td>...</td>\n      <td>...</td>\n      <td>...</td>\n      <td>...</td>\n      <td>...</td>\n      <td>...</td>\n      <td>...</td>\n      <td>...</td>\n      <td>...</td>\n      <td>...</td>\n    </tr>\n    <tr>\n      <th>1304</th>\n      <td>29.881138</td>\n      <td>1305</td>\n      <td>0</td>\n      <td>0</td>\n      <td>1</td>\n      <td>0</td>\n      <td>0</td>\n      <td>0</td>\n      <td>0</td>\n      <td>0</td>\n      <td>0</td>\n      <td>0</td>\n      <td>0</td>\n      <td>1</td>\n      <td>8.0500</td>\n      <td>0</td>\n      <td>0</td>\n      <td>1</td>\n      <td>0</td>\n      <td>1</td>\n    </tr>\n    <tr>\n      <th>1305</th>\n      <td>39.000000</td>\n      <td>1306</td>\n      <td>1</td>\n      <td>0</td>\n      <td>0</td>\n      <td>0</td>\n      <td>0</td>\n      <td>1</td>\n      <td>0</td>\n      <td>0</td>\n      <td>0</td>\n      <td>0</td>\n      <td>0</td>\n      <td>0</td>\n      <td>108.9000</td>\n      <td>1</td>\n      <td>0</td>\n      <td>0</td>\n      <td>1</td>\n      <td>0</td>\n    </tr>\n    <tr>\n      <th>1306</th>\n      <td>38.500000</td>\n      <td>1307</td>\n      <td>0</td>\n      <td>0</td>\n      <td>1</td>\n      <td>0</td>\n      <td>0</td>\n      <td>0</td>\n      <td>0</td>\n      <td>0</td>\n      <td>0</td>\n      <td>0</td>\n      <td>0</td>\n      <td>1</td>\n      <td>7.2500</td>\n      <td>0</td>\n      <td>0</td>\n      <td>1</td>\n      <td>0</td>\n      <td>1</td>\n    </tr>\n    <tr>\n      <th>1307</th>\n      <td>29.881138</td>\n      <td>1308</td>\n      <td>0</td>\n      <td>0</td>\n      <td>1</td>\n      <td>0</td>\n      <td>0</td>\n      <td>0</td>\n      <td>0</td>\n      <td>0</td>\n      <td>0</td>\n      <td>0</td>\n      <td>0</td>\n      <td>1</td>\n      <td>8.0500</td>\n      <td>0</td>\n      <td>0</td>\n      <td>1</td>\n      <td>0</td>\n      <td>1</td>\n    </tr>\n    <tr>\n      <th>1308</th>\n      <td>29.881138</td>\n      <td>1309</td>\n      <td>0</td>\n      <td>0</td>\n      <td>1</td>\n      <td>0</td>\n      <td>0</td>\n      <td>0</td>\n      <td>0</td>\n      <td>0</td>\n      <td>0</td>\n      <td>0</td>\n      <td>0</td>\n      <td>1</td>\n      <td>22.3583</td>\n      <td>1</td>\n      <td>0</td>\n      <td>0</td>\n      <td>0</td>\n      <td>1</td>\n    </tr>\n  </tbody>\n</table>\n<p>418 rows × 20 columns</p>\n</div>"
     },
     "metadata": {},
     "execution_count": 19
    }
   ],
   "source": [
    "testdf=full1.loc[891:,:]\n",
    "testdf.drop(columns='Survived',inplace=True)\n",
    "testdf"
   ]
  },
  {
   "cell_type": "code",
   "execution_count": 20,
   "metadata": {},
   "outputs": [
    {
     "output_type": "execute_result",
     "data": {
      "text/plain": "891      892\n892      893\n893      894\n894      895\n895      896\n        ... \n1304    1305\n1305    1306\n1306    1307\n1307    1308\n1308    1309\nName: PassengerId, Length: 418, dtype: int64"
     },
     "metadata": {},
     "execution_count": 20
    }
   ],
   "source": [
    "passengerIdtest=testdf.loc[891:,'PassengerId']\n",
    "passengerIdtest"
   ]
  },
  {
   "cell_type": "code",
   "execution_count": 21,
   "metadata": {},
   "outputs": [
    {
     "output_type": "execute_result",
     "data": {
      "text/plain": "      Sex_female  Pclass_1      Fare  Cabin_B  Embarked_C  Cabin_D  Cabin_E  \\\n891            0         0    7.8292        0           0        0        0   \n892            1         0    7.0000        0           0        0        0   \n893            0         0    9.6875        0           0        0        0   \n894            0         0    8.6625        0           0        0        0   \n895            1         0   12.2875        0           0        0        0   \n...          ...       ...       ...      ...         ...      ...      ...   \n1304           0         0    8.0500        0           0        0        0   \n1305           1         1  108.9000        0           1        0        0   \n1306           0         0    7.2500        0           0        0        0   \n1307           0         0    8.0500        0           0        0        0   \n1308           0         0   22.3583        0           1        0        0   \n\n      Cabin_C  Pclass_2  Cabin_F  ...  Cabin_A  Cabin_G  Embarked_Q  \\\n891         0         0        0  ...        0        0           1   \n892         0         0        0  ...        0        0           0   \n893         0         1        0  ...        0        0           1   \n894         0         0        0  ...        0        0           0   \n895         0         0        0  ...        0        0           0   \n...       ...       ...      ...  ...      ...      ...         ...   \n1304        0         0        0  ...        0        0           0   \n1305        1         0        0  ...        0        0           0   \n1306        0         0        0  ...        0        0           0   \n1307        0         0        0  ...        0        0           0   \n1308        0         0        0  ...        0        0           0   \n\n      PassengerId  Cabin_T        Age  Embarked_S  Cabin_U  Pclass_3  Sex_male  \n891           892        0  34.500000           0        1         1         1  \n892           893        0  47.000000           1        1         1         0  \n893           894        0  62.000000           0        1         0         1  \n894           895        0  27.000000           1        1         1         1  \n895           896        0  22.000000           1        1         1         0  \n...           ...      ...        ...         ...      ...       ...       ...  \n1304         1305        0  29.881138           1        1         1         1  \n1305         1306        0  39.000000           0        0         0         0  \n1306         1307        0  38.500000           1        1         1         1  \n1307         1308        0  29.881138           1        1         1         1  \n1308         1309        0  29.881138           0        1         1         1  \n\n[418 rows x 32 columns]",
      "text/html": "<div>\n<style scoped>\n    .dataframe tbody tr th:only-of-type {\n        vertical-align: middle;\n    }\n\n    .dataframe tbody tr th {\n        vertical-align: top;\n    }\n\n    .dataframe thead th {\n        text-align: right;\n    }\n</style>\n<table border=\"1\" class=\"dataframe\">\n  <thead>\n    <tr style=\"text-align: right;\">\n      <th></th>\n      <th>Sex_female</th>\n      <th>Pclass_1</th>\n      <th>Fare</th>\n      <th>Cabin_B</th>\n      <th>Embarked_C</th>\n      <th>Cabin_D</th>\n      <th>Cabin_E</th>\n      <th>Cabin_C</th>\n      <th>Pclass_2</th>\n      <th>Cabin_F</th>\n      <th>...</th>\n      <th>Cabin_A</th>\n      <th>Cabin_G</th>\n      <th>Embarked_Q</th>\n      <th>PassengerId</th>\n      <th>Cabin_T</th>\n      <th>Age</th>\n      <th>Embarked_S</th>\n      <th>Cabin_U</th>\n      <th>Pclass_3</th>\n      <th>Sex_male</th>\n    </tr>\n  </thead>\n  <tbody>\n    <tr>\n      <th>891</th>\n      <td>0</td>\n      <td>0</td>\n      <td>7.8292</td>\n      <td>0</td>\n      <td>0</td>\n      <td>0</td>\n      <td>0</td>\n      <td>0</td>\n      <td>0</td>\n      <td>0</td>\n      <td>...</td>\n      <td>0</td>\n      <td>0</td>\n      <td>1</td>\n      <td>892</td>\n      <td>0</td>\n      <td>34.500000</td>\n      <td>0</td>\n      <td>1</td>\n      <td>1</td>\n      <td>1</td>\n    </tr>\n    <tr>\n      <th>892</th>\n      <td>1</td>\n      <td>0</td>\n      <td>7.0000</td>\n      <td>0</td>\n      <td>0</td>\n      <td>0</td>\n      <td>0</td>\n      <td>0</td>\n      <td>0</td>\n      <td>0</td>\n      <td>...</td>\n      <td>0</td>\n      <td>0</td>\n      <td>0</td>\n      <td>893</td>\n      <td>0</td>\n      <td>47.000000</td>\n      <td>1</td>\n      <td>1</td>\n      <td>1</td>\n      <td>0</td>\n    </tr>\n    <tr>\n      <th>893</th>\n      <td>0</td>\n      <td>0</td>\n      <td>9.6875</td>\n      <td>0</td>\n      <td>0</td>\n      <td>0</td>\n      <td>0</td>\n      <td>0</td>\n      <td>1</td>\n      <td>0</td>\n      <td>...</td>\n      <td>0</td>\n      <td>0</td>\n      <td>1</td>\n      <td>894</td>\n      <td>0</td>\n      <td>62.000000</td>\n      <td>0</td>\n      <td>1</td>\n      <td>0</td>\n      <td>1</td>\n    </tr>\n    <tr>\n      <th>894</th>\n      <td>0</td>\n      <td>0</td>\n      <td>8.6625</td>\n      <td>0</td>\n      <td>0</td>\n      <td>0</td>\n      <td>0</td>\n      <td>0</td>\n      <td>0</td>\n      <td>0</td>\n      <td>...</td>\n      <td>0</td>\n      <td>0</td>\n      <td>0</td>\n      <td>895</td>\n      <td>0</td>\n      <td>27.000000</td>\n      <td>1</td>\n      <td>1</td>\n      <td>1</td>\n      <td>1</td>\n    </tr>\n    <tr>\n      <th>895</th>\n      <td>1</td>\n      <td>0</td>\n      <td>12.2875</td>\n      <td>0</td>\n      <td>0</td>\n      <td>0</td>\n      <td>0</td>\n      <td>0</td>\n      <td>0</td>\n      <td>0</td>\n      <td>...</td>\n      <td>0</td>\n      <td>0</td>\n      <td>0</td>\n      <td>896</td>\n      <td>0</td>\n      <td>22.000000</td>\n      <td>1</td>\n      <td>1</td>\n      <td>1</td>\n      <td>0</td>\n    </tr>\n    <tr>\n      <th>...</th>\n      <td>...</td>\n      <td>...</td>\n      <td>...</td>\n      <td>...</td>\n      <td>...</td>\n      <td>...</td>\n      <td>...</td>\n      <td>...</td>\n      <td>...</td>\n      <td>...</td>\n      <td>...</td>\n      <td>...</td>\n      <td>...</td>\n      <td>...</td>\n      <td>...</td>\n      <td>...</td>\n      <td>...</td>\n      <td>...</td>\n      <td>...</td>\n      <td>...</td>\n      <td>...</td>\n    </tr>\n    <tr>\n      <th>1304</th>\n      <td>0</td>\n      <td>0</td>\n      <td>8.0500</td>\n      <td>0</td>\n      <td>0</td>\n      <td>0</td>\n      <td>0</td>\n      <td>0</td>\n      <td>0</td>\n      <td>0</td>\n      <td>...</td>\n      <td>0</td>\n      <td>0</td>\n      <td>0</td>\n      <td>1305</td>\n      <td>0</td>\n      <td>29.881138</td>\n      <td>1</td>\n      <td>1</td>\n      <td>1</td>\n      <td>1</td>\n    </tr>\n    <tr>\n      <th>1305</th>\n      <td>1</td>\n      <td>1</td>\n      <td>108.9000</td>\n      <td>0</td>\n      <td>1</td>\n      <td>0</td>\n      <td>0</td>\n      <td>1</td>\n      <td>0</td>\n      <td>0</td>\n      <td>...</td>\n      <td>0</td>\n      <td>0</td>\n      <td>0</td>\n      <td>1306</td>\n      <td>0</td>\n      <td>39.000000</td>\n      <td>0</td>\n      <td>0</td>\n      <td>0</td>\n      <td>0</td>\n    </tr>\n    <tr>\n      <th>1306</th>\n      <td>0</td>\n      <td>0</td>\n      <td>7.2500</td>\n      <td>0</td>\n      <td>0</td>\n      <td>0</td>\n      <td>0</td>\n      <td>0</td>\n      <td>0</td>\n      <td>0</td>\n      <td>...</td>\n      <td>0</td>\n      <td>0</td>\n      <td>0</td>\n      <td>1307</td>\n      <td>0</td>\n      <td>38.500000</td>\n      <td>1</td>\n      <td>1</td>\n      <td>1</td>\n      <td>1</td>\n    </tr>\n    <tr>\n      <th>1307</th>\n      <td>0</td>\n      <td>0</td>\n      <td>8.0500</td>\n      <td>0</td>\n      <td>0</td>\n      <td>0</td>\n      <td>0</td>\n      <td>0</td>\n      <td>0</td>\n      <td>0</td>\n      <td>...</td>\n      <td>0</td>\n      <td>0</td>\n      <td>0</td>\n      <td>1308</td>\n      <td>0</td>\n      <td>29.881138</td>\n      <td>1</td>\n      <td>1</td>\n      <td>1</td>\n      <td>1</td>\n    </tr>\n    <tr>\n      <th>1308</th>\n      <td>0</td>\n      <td>0</td>\n      <td>22.3583</td>\n      <td>0</td>\n      <td>1</td>\n      <td>0</td>\n      <td>0</td>\n      <td>0</td>\n      <td>0</td>\n      <td>0</td>\n      <td>...</td>\n      <td>0</td>\n      <td>0</td>\n      <td>0</td>\n      <td>1309</td>\n      <td>0</td>\n      <td>29.881138</td>\n      <td>0</td>\n      <td>1</td>\n      <td>1</td>\n      <td>1</td>\n    </tr>\n  </tbody>\n</table>\n<p>418 rows × 32 columns</p>\n</div>"
     },
     "metadata": {},
     "execution_count": 21
    }
   ],
   "source": [
    "features_test=testdf[columns_selcd]\n",
    "features_test"
   ]
  },
  {
   "cell_type": "code",
   "execution_count": 22,
   "metadata": {},
   "outputs": [
    {
     "output_type": "execute_result",
     "data": {
      "text/plain": "array([0., 0., 0., 0., 1., 0., 1., 0., 1., 0., 0., 0., 1., 0., 1., 1., 0.,\n       0., 1., 1., 0., 0., 1., 1., 1., 0., 1., 0., 0., 0., 0., 0., 0., 1.,\n       1., 0., 0., 1., 0., 0., 0., 1., 0., 1., 1., 0., 1., 0., 1., 0., 1.,\n       0., 1., 1., 0., 0., 0., 0., 0., 1., 0., 0., 0., 1., 1., 1., 1., 0.,\n       1., 1., 1., 0., 1., 1., 1., 1., 0., 1., 0., 1., 0., 0., 0., 0., 0.,\n       0., 1., 1., 1., 0., 1., 0., 1., 0., 1., 0., 1., 0., 1., 0., 1., 0.,\n       0., 0., 1., 0., 0., 0., 0., 1., 0., 1., 1., 1., 1., 0., 0., 1., 1.,\n       1., 1., 0., 1., 0., 0., 1., 0., 1., 0., 0., 0., 0., 1., 0., 0., 0.,\n       0., 0., 1., 0., 1., 1., 0., 0., 0., 0., 1., 0., 0., 0., 1., 0., 0.,\n       0., 0., 0., 1., 1., 0., 1., 1., 0., 1., 0., 0., 1., 0., 0., 1., 1.,\n       0., 0., 0., 0., 0., 1., 1., 0., 1., 1., 0., 1., 1., 0., 1., 0., 1.,\n       0., 1., 0., 0., 0., 0., 0., 0., 0., 1., 1., 0., 1., 1., 0., 0., 1.,\n       0., 0., 1., 0., 1., 0., 0., 0., 0., 1., 0., 0., 1., 0., 1., 0., 1.,\n       0., 1., 0., 1., 1., 0., 1., 0., 0., 0., 1., 0., 0., 1., 0., 0., 0.,\n       1., 1., 1., 1., 1., 0., 0., 0., 1., 0., 1., 1., 1., 0., 1., 0., 0.,\n       0., 0., 0., 1., 0., 0., 0., 1., 1., 0., 0., 0., 0., 1., 0., 0., 0.,\n       1., 1., 0., 1., 0., 0., 0., 0., 1., 0., 1., 1., 1., 0., 0., 1., 0.,\n       0., 0., 1., 0., 0., 0., 0., 1., 0., 0., 0., 0., 1., 0., 0., 1., 1.,\n       0., 0., 0., 0., 0., 0., 0., 1., 1., 1., 0., 0., 0., 0., 0., 0., 0.,\n       0., 1., 0., 1., 0., 0., 0., 1., 1., 0., 1., 0., 0., 0., 0., 0., 0.,\n       0., 0., 0., 1., 0., 1., 0., 1., 0., 1., 1., 0., 0., 0., 1., 0., 1.,\n       0., 0., 1., 0., 1., 1., 0., 1., 1., 0., 1., 1., 0., 0., 1., 0., 0.,\n       1., 1., 1., 0., 0., 0., 0., 0., 1., 1., 0., 1., 0., 0., 0., 0., 1.,\n       1., 0., 0., 0., 1., 0., 1., 0., 0., 1., 0., 1., 0., 1., 1., 0., 0.,\n       1., 1., 1., 1., 1., 0., 1., 0., 0., 0.])"
     },
     "metadata": {},
     "execution_count": 22
    }
   ],
   "source": [
    "ypredtest=model.predict(features_test)\n",
    "ypredtest"
   ]
  },
  {
   "cell_type": "code",
   "execution_count": 24,
   "metadata": {},
   "outputs": [],
   "source": [
    "ypreddf=pandas.DataFrame({'PassengerId':passengerIdtest,'Survived':ypredtest.astype(int)})\n",
    "ypreddf.to_csv('titanic/titanic_pred_quincy.csv')"
   ]
  },
  {
   "cell_type": "code",
   "execution_count": null,
   "metadata": {},
   "outputs": [],
   "source": [
    "# https://zhuanlan.zhihu.com/p/36862025\n",
    "# https://zhuanlan.zhihu.com/p/97746823\n",
    "# https://zhuanlan.zhihu.com/p/40398646"
   ]
  },
  {
   "cell_type": "code",
   "execution_count": 25,
   "metadata": {},
   "outputs": [
    {
     "output_type": "execute_result",
     "data": {
      "text/plain": "((891, 11), (891,), (418, 10))"
     },
     "metadata": {},
     "execution_count": 25
    }
   ],
   "source": [
    "# X_train = train.drop(\"Survived\", axis=1)\n",
    "# Y_train = train[\"Survived\"]\n",
    "# X_test  = test.drop(\"PassengerId\", axis=1).copy()\n",
    "# X_train.shape, Y_train.shape, X_test.shape"
   ]
  }
 ]
}