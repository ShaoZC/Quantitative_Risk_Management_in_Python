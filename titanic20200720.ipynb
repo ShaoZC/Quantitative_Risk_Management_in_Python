{
 "metadata": {
  "language_info": {
   "codemirror_mode": {
    "name": "ipython",
    "version": 3
   },
   "file_extension": ".py",
   "mimetype": "text/x-python",
   "name": "python",
   "nbconvert_exporter": "python",
   "pygments_lexer": "ipython3",
   "version": "3.8.4-final"
  },
  "orig_nbformat": 2,
  "kernelspec": {
   "name": "python38464bit9379dd402be645a4a272fa7043f0c61f",
   "display_name": "Python 3.8.4 64-bit"
  }
 },
 "nbformat": 4,
 "nbformat_minor": 2,
 "cells": [
  {
   "cell_type": "code",
   "execution_count": 1,
   "metadata": {},
   "outputs": [],
   "source": [
    "import pandas\n",
    "test=pandas.read_csv('titanic/test.csv')\n",
    "train=pandas.read_csv('titanic/train.csv')"
   ]
  },
  {
   "cell_type": "code",
   "execution_count": 5,
   "metadata": {},
   "outputs": [],
   "source": [
    "full=train.append(test,ignore_index=True)\n",
    "# full"
   ]
  },
  {
   "cell_type": "code",
   "execution_count": 14,
   "metadata": {},
   "outputs": [],
   "source": [
    "# 填充缺失值\n",
    "full['Age']=full['Age'].fillna(full['Age'].mean())\n",
    "full['Fare']=full['Fare'].fillna(full['Fare'].mean())\n",
    "full['Embarked']=full['Embarked'].fillna('S')\n",
    "full['Cabin']=full['Cabin'].fillna('U')\n",
    "# full['Fare']\n",
    "# full['Age']"
   ]
  },
  {
   "cell_type": "code",
   "execution_count": 16,
   "metadata": {},
   "outputs": [],
   "source": [
    "# full['Cabin'].head(100)"
   ]
  },
  {
   "cell_type": "code",
   "execution_count": 18,
   "metadata": {},
   "outputs": [],
   "source": [
    "# 特征工程\n",
    "# 性别Sex\n",
    "sexdf1=pandas.DataFrame()\n",
    "sexdf1=pandas.get_dummies(full['Sex'],prefix='Sex')\n",
    "# sexdf1.head()\n",
    "\n",
    "# Cabin\n",
    "cabindf=pandas.DataFrame()\n",
    "full['Cabin']=full['Cabin'].map(lambda c:c[0])\n",
    "cabindf=pandas.get_dummies(full['Cabin'],prefix='Cabin')\n",
    "\n",
    "# Embarked\n",
    "embarkeddf=pandas.DataFrame()\n",
    "embarkeddf=pandas.get_dummies(full['Embarked'],prefix='Embarked')\n",
    "# embarkeddf.head()\n",
    "\n",
    "#PClass\n",
    "pclassdf=pandas.DataFrame()\n",
    "pclassdf=pandas.get_dummies(full['Pclass'],prefix='Pclass')\n",
    "\n"
   ]
  },
  {
   "cell_type": "code",
   "execution_count": 19,
   "metadata": {},
   "outputs": [],
   "source": [
    "# corrdf=full.corr()"
   ]
  },
  {
   "cell_type": "code",
   "execution_count": 23,
   "metadata": {},
   "outputs": [
    {
     "output_type": "execute_result",
     "data": {
      "text/plain": "                  Age  PassengerId  Pclass_1  Pclass_2  Pclass_3   Cabin_A  \\\nAge          1.000000     0.025731  0.362587 -0.014193 -0.302093  0.125177   \nPassengerId  0.025731     1.000000  0.026495  0.022714 -0.041544 -0.002831   \nPclass_1     0.362587     0.026495  1.000000 -0.296526 -0.622172  0.228433   \nPclass_2    -0.014193     0.022714 -0.296526  1.000000 -0.563180 -0.067736   \nPclass_3    -0.302093    -0.041544 -0.622172 -0.563180  1.000000 -0.142125   \nCabin_A      0.125177    -0.002831  0.228433 -0.067736 -0.142125  1.000000   \nCabin_B      0.113458     0.015895  0.399378 -0.118426 -0.248481 -0.029886   \nCabin_C      0.167993     0.006092  0.485974 -0.144104 -0.302359 -0.036366   \nCabin_D      0.132886     0.000549  0.275698 -0.037929 -0.207455 -0.024952   \nCabin_E      0.106600    -0.008136  0.242963 -0.050210 -0.169063 -0.023510   \nCabin_F     -0.072644     0.000306 -0.073083  0.127371 -0.041178 -0.016695   \nCabin_G     -0.085977    -0.045949 -0.035441 -0.032081  0.056964 -0.008096   \nCabin_T      0.032461    -0.023049  0.048310 -0.014325 -0.030057 -0.003615   \nCabin_U     -0.271918     0.000208 -0.776987  0.176485  0.527614 -0.242399   \nFare         0.171521     0.031416  0.599956 -0.121372 -0.419616  0.020094   \nEmbarked_C   0.076179     0.048101  0.325722 -0.134675 -0.171430  0.094914   \nEmbarked_Q  -0.012718     0.011585 -0.166101 -0.121973  0.243706 -0.042105   \nEmbarked_S  -0.059153    -0.049836 -0.181800  0.196532 -0.003805 -0.056984   \nSex_female  -0.057397    -0.013406  0.107371  0.028862 -0.116562 -0.047561   \nSex_male     0.057397     0.013406 -0.107371 -0.028862  0.116562  0.047561   \nSurvived    -0.070323    -0.005007  0.285904  0.093349 -0.322308  0.022287   \n\n              Cabin_B   Cabin_C   Cabin_D   Cabin_E  ...   Cabin_G   Cabin_T  \\\nAge          0.113458  0.167993  0.132886  0.106600  ... -0.085977  0.032461   \nPassengerId  0.015895  0.006092  0.000549 -0.008136  ... -0.045949 -0.023049   \nPclass_1     0.399378  0.485974  0.275698  0.242963  ... -0.035441  0.048310   \nPclass_2    -0.118426 -0.144104 -0.037929 -0.050210  ... -0.032081 -0.014325   \nPclass_3    -0.248481 -0.302359 -0.207455 -0.169063  ...  0.056964 -0.030057   \nCabin_A     -0.029886 -0.036366 -0.024952 -0.023510  ... -0.008096 -0.003615   \nCabin_B      1.000000 -0.063580 -0.043624 -0.041103  ... -0.014154 -0.006320   \nCabin_C     -0.063580  1.000000 -0.053083 -0.050016  ... -0.017224 -0.007691   \nCabin_D     -0.043624 -0.053083  1.000000 -0.034317  ... -0.011817 -0.005277   \nCabin_E     -0.041103 -0.050016 -0.034317  1.000000  ... -0.011135 -0.004972   \nCabin_F     -0.029188 -0.035516 -0.024369 -0.022961  ... -0.007907 -0.003531   \nCabin_G     -0.014154 -0.017224 -0.011817 -0.011135  ...  1.000000 -0.001712   \nCabin_T     -0.006320 -0.007691 -0.005277 -0.004972  ... -0.001712  1.000000   \nCabin_U     -0.423794 -0.515684 -0.353822 -0.333381  ... -0.114803 -0.051263   \nFare         0.393743  0.401370  0.072737  0.073949  ... -0.022857  0.001179   \nEmbarked_C   0.161595  0.158043  0.107782  0.027566  ... -0.031566 -0.014095   \nEmbarked_Q  -0.073613 -0.059151 -0.061459 -0.042877  ... -0.019941 -0.008904   \nEmbarked_S  -0.095790 -0.101861 -0.056023  0.002960  ...  0.040560  0.018111   \nSex_female   0.094453  0.077473  0.057396  0.040340  ...  0.083285 -0.020558   \nSex_male    -0.094453 -0.077473 -0.057396 -0.040340  ... -0.083285  0.020558   \nSurvived     0.175095  0.114652  0.150716  0.145321  ...  0.016040 -0.026456   \n\n              Cabin_U      Fare  Embarked_C  Embarked_Q  Embarked_S  \\\nAge         -0.271918  0.171521    0.076179   -0.012718   -0.059153   \nPassengerId  0.000208  0.031416    0.048101    0.011585   -0.049836   \nPclass_1    -0.776987  0.599956    0.325722   -0.166101   -0.181800   \nPclass_2     0.176485 -0.121372   -0.134675   -0.121973    0.196532   \nPclass_3     0.527614 -0.419616   -0.171430    0.243706   -0.003805   \nCabin_A     -0.242399  0.020094    0.094914   -0.042105   -0.056984   \nCabin_B     -0.423794  0.393743    0.161595   -0.073613   -0.095790   \nCabin_C     -0.515684  0.401370    0.158043   -0.059151   -0.101861   \nCabin_D     -0.353822  0.072737    0.107782   -0.061459   -0.056023   \nCabin_E     -0.333381  0.073949    0.027566   -0.042877    0.002960   \nCabin_F     -0.236733 -0.037567   -0.020010   -0.020282    0.030575   \nCabin_G     -0.114803 -0.022857   -0.031566   -0.019941    0.040560   \nCabin_T     -0.051263  0.001179   -0.014095   -0.008904    0.018111   \nCabin_U      1.000000 -0.507197   -0.258257    0.142369    0.137351   \nFare        -0.507197  1.000000    0.286241   -0.130054   -0.169894   \nEmbarked_C  -0.258257  0.286241    1.000000   -0.164166   -0.778262   \nEmbarked_Q   0.142369 -0.130054   -0.164166    1.000000   -0.491656   \nEmbarked_S   0.137351 -0.169894   -0.778262   -0.491656    1.000000   \nSex_female  -0.137396  0.185484    0.066564    0.088651   -0.115193   \nSex_male     0.137396 -0.185484   -0.066564   -0.088651    0.115193   \nSurvived    -0.316912  0.257307    0.168240    0.003650   -0.149683   \n\n             Sex_female  Sex_male  Survived  \nAge           -0.057397  0.057397 -0.070323  \nPassengerId   -0.013406  0.013406 -0.005007  \nPclass_1       0.107371 -0.107371  0.285904  \nPclass_2       0.028862 -0.028862  0.093349  \nPclass_3      -0.116562  0.116562 -0.322308  \nCabin_A       -0.047561  0.047561  0.022287  \nCabin_B        0.094453 -0.094453  0.175095  \nCabin_C        0.077473 -0.077473  0.114652  \nCabin_D        0.057396 -0.057396  0.150716  \nCabin_E        0.040340 -0.040340  0.145321  \nCabin_F        0.006655 -0.006655  0.057935  \nCabin_G        0.083285 -0.083285  0.016040  \nCabin_T       -0.020558  0.020558 -0.026456  \nCabin_U       -0.137396  0.137396 -0.316912  \nFare           0.185484 -0.185484  0.257307  \nEmbarked_C     0.066564 -0.066564  0.168240  \nEmbarked_Q     0.088651 -0.088651  0.003650  \nEmbarked_S    -0.115193  0.115193 -0.149683  \nSex_female     1.000000 -1.000000  0.543351  \nSex_male      -1.000000  1.000000 -0.543351  \nSurvived       0.543351 -0.543351  1.000000  \n\n[21 rows x 21 columns]",
      "text/html": "<div>\n<style scoped>\n    .dataframe tbody tr th:only-of-type {\n        vertical-align: middle;\n    }\n\n    .dataframe tbody tr th {\n        vertical-align: top;\n    }\n\n    .dataframe thead th {\n        text-align: right;\n    }\n</style>\n<table border=\"1\" class=\"dataframe\">\n  <thead>\n    <tr style=\"text-align: right;\">\n      <th></th>\n      <th>Age</th>\n      <th>PassengerId</th>\n      <th>Pclass_1</th>\n      <th>Pclass_2</th>\n      <th>Pclass_3</th>\n      <th>Cabin_A</th>\n      <th>Cabin_B</th>\n      <th>Cabin_C</th>\n      <th>Cabin_D</th>\n      <th>Cabin_E</th>\n      <th>...</th>\n      <th>Cabin_G</th>\n      <th>Cabin_T</th>\n      <th>Cabin_U</th>\n      <th>Fare</th>\n      <th>Embarked_C</th>\n      <th>Embarked_Q</th>\n      <th>Embarked_S</th>\n      <th>Sex_female</th>\n      <th>Sex_male</th>\n      <th>Survived</th>\n    </tr>\n  </thead>\n  <tbody>\n    <tr>\n      <th>Age</th>\n      <td>1.000000</td>\n      <td>0.025731</td>\n      <td>0.362587</td>\n      <td>-0.014193</td>\n      <td>-0.302093</td>\n      <td>0.125177</td>\n      <td>0.113458</td>\n      <td>0.167993</td>\n      <td>0.132886</td>\n      <td>0.106600</td>\n      <td>...</td>\n      <td>-0.085977</td>\n      <td>0.032461</td>\n      <td>-0.271918</td>\n      <td>0.171521</td>\n      <td>0.076179</td>\n      <td>-0.012718</td>\n      <td>-0.059153</td>\n      <td>-0.057397</td>\n      <td>0.057397</td>\n      <td>-0.070323</td>\n    </tr>\n    <tr>\n      <th>PassengerId</th>\n      <td>0.025731</td>\n      <td>1.000000</td>\n      <td>0.026495</td>\n      <td>0.022714</td>\n      <td>-0.041544</td>\n      <td>-0.002831</td>\n      <td>0.015895</td>\n      <td>0.006092</td>\n      <td>0.000549</td>\n      <td>-0.008136</td>\n      <td>...</td>\n      <td>-0.045949</td>\n      <td>-0.023049</td>\n      <td>0.000208</td>\n      <td>0.031416</td>\n      <td>0.048101</td>\n      <td>0.011585</td>\n      <td>-0.049836</td>\n      <td>-0.013406</td>\n      <td>0.013406</td>\n      <td>-0.005007</td>\n    </tr>\n    <tr>\n      <th>Pclass_1</th>\n      <td>0.362587</td>\n      <td>0.026495</td>\n      <td>1.000000</td>\n      <td>-0.296526</td>\n      <td>-0.622172</td>\n      <td>0.228433</td>\n      <td>0.399378</td>\n      <td>0.485974</td>\n      <td>0.275698</td>\n      <td>0.242963</td>\n      <td>...</td>\n      <td>-0.035441</td>\n      <td>0.048310</td>\n      <td>-0.776987</td>\n      <td>0.599956</td>\n      <td>0.325722</td>\n      <td>-0.166101</td>\n      <td>-0.181800</td>\n      <td>0.107371</td>\n      <td>-0.107371</td>\n      <td>0.285904</td>\n    </tr>\n    <tr>\n      <th>Pclass_2</th>\n      <td>-0.014193</td>\n      <td>0.022714</td>\n      <td>-0.296526</td>\n      <td>1.000000</td>\n      <td>-0.563180</td>\n      <td>-0.067736</td>\n      <td>-0.118426</td>\n      <td>-0.144104</td>\n      <td>-0.037929</td>\n      <td>-0.050210</td>\n      <td>...</td>\n      <td>-0.032081</td>\n      <td>-0.014325</td>\n      <td>0.176485</td>\n      <td>-0.121372</td>\n      <td>-0.134675</td>\n      <td>-0.121973</td>\n      <td>0.196532</td>\n      <td>0.028862</td>\n      <td>-0.028862</td>\n      <td>0.093349</td>\n    </tr>\n    <tr>\n      <th>Pclass_3</th>\n      <td>-0.302093</td>\n      <td>-0.041544</td>\n      <td>-0.622172</td>\n      <td>-0.563180</td>\n      <td>1.000000</td>\n      <td>-0.142125</td>\n      <td>-0.248481</td>\n      <td>-0.302359</td>\n      <td>-0.207455</td>\n      <td>-0.169063</td>\n      <td>...</td>\n      <td>0.056964</td>\n      <td>-0.030057</td>\n      <td>0.527614</td>\n      <td>-0.419616</td>\n      <td>-0.171430</td>\n      <td>0.243706</td>\n      <td>-0.003805</td>\n      <td>-0.116562</td>\n      <td>0.116562</td>\n      <td>-0.322308</td>\n    </tr>\n    <tr>\n      <th>Cabin_A</th>\n      <td>0.125177</td>\n      <td>-0.002831</td>\n      <td>0.228433</td>\n      <td>-0.067736</td>\n      <td>-0.142125</td>\n      <td>1.000000</td>\n      <td>-0.029886</td>\n      <td>-0.036366</td>\n      <td>-0.024952</td>\n      <td>-0.023510</td>\n      <td>...</td>\n      <td>-0.008096</td>\n      <td>-0.003615</td>\n      <td>-0.242399</td>\n      <td>0.020094</td>\n      <td>0.094914</td>\n      <td>-0.042105</td>\n      <td>-0.056984</td>\n      <td>-0.047561</td>\n      <td>0.047561</td>\n      <td>0.022287</td>\n    </tr>\n    <tr>\n      <th>Cabin_B</th>\n      <td>0.113458</td>\n      <td>0.015895</td>\n      <td>0.399378</td>\n      <td>-0.118426</td>\n      <td>-0.248481</td>\n      <td>-0.029886</td>\n      <td>1.000000</td>\n      <td>-0.063580</td>\n      <td>-0.043624</td>\n      <td>-0.041103</td>\n      <td>...</td>\n      <td>-0.014154</td>\n      <td>-0.006320</td>\n      <td>-0.423794</td>\n      <td>0.393743</td>\n      <td>0.161595</td>\n      <td>-0.073613</td>\n      <td>-0.095790</td>\n      <td>0.094453</td>\n      <td>-0.094453</td>\n      <td>0.175095</td>\n    </tr>\n    <tr>\n      <th>Cabin_C</th>\n      <td>0.167993</td>\n      <td>0.006092</td>\n      <td>0.485974</td>\n      <td>-0.144104</td>\n      <td>-0.302359</td>\n      <td>-0.036366</td>\n      <td>-0.063580</td>\n      <td>1.000000</td>\n      <td>-0.053083</td>\n      <td>-0.050016</td>\n      <td>...</td>\n      <td>-0.017224</td>\n      <td>-0.007691</td>\n      <td>-0.515684</td>\n      <td>0.401370</td>\n      <td>0.158043</td>\n      <td>-0.059151</td>\n      <td>-0.101861</td>\n      <td>0.077473</td>\n      <td>-0.077473</td>\n      <td>0.114652</td>\n    </tr>\n    <tr>\n      <th>Cabin_D</th>\n      <td>0.132886</td>\n      <td>0.000549</td>\n      <td>0.275698</td>\n      <td>-0.037929</td>\n      <td>-0.207455</td>\n      <td>-0.024952</td>\n      <td>-0.043624</td>\n      <td>-0.053083</td>\n      <td>1.000000</td>\n      <td>-0.034317</td>\n      <td>...</td>\n      <td>-0.011817</td>\n      <td>-0.005277</td>\n      <td>-0.353822</td>\n      <td>0.072737</td>\n      <td>0.107782</td>\n      <td>-0.061459</td>\n      <td>-0.056023</td>\n      <td>0.057396</td>\n      <td>-0.057396</td>\n      <td>0.150716</td>\n    </tr>\n    <tr>\n      <th>Cabin_E</th>\n      <td>0.106600</td>\n      <td>-0.008136</td>\n      <td>0.242963</td>\n      <td>-0.050210</td>\n      <td>-0.169063</td>\n      <td>-0.023510</td>\n      <td>-0.041103</td>\n      <td>-0.050016</td>\n      <td>-0.034317</td>\n      <td>1.000000</td>\n      <td>...</td>\n      <td>-0.011135</td>\n      <td>-0.004972</td>\n      <td>-0.333381</td>\n      <td>0.073949</td>\n      <td>0.027566</td>\n      <td>-0.042877</td>\n      <td>0.002960</td>\n      <td>0.040340</td>\n      <td>-0.040340</td>\n      <td>0.145321</td>\n    </tr>\n    <tr>\n      <th>Cabin_F</th>\n      <td>-0.072644</td>\n      <td>0.000306</td>\n      <td>-0.073083</td>\n      <td>0.127371</td>\n      <td>-0.041178</td>\n      <td>-0.016695</td>\n      <td>-0.029188</td>\n      <td>-0.035516</td>\n      <td>-0.024369</td>\n      <td>-0.022961</td>\n      <td>...</td>\n      <td>-0.007907</td>\n      <td>-0.003531</td>\n      <td>-0.236733</td>\n      <td>-0.037567</td>\n      <td>-0.020010</td>\n      <td>-0.020282</td>\n      <td>0.030575</td>\n      <td>0.006655</td>\n      <td>-0.006655</td>\n      <td>0.057935</td>\n    </tr>\n    <tr>\n      <th>Cabin_G</th>\n      <td>-0.085977</td>\n      <td>-0.045949</td>\n      <td>-0.035441</td>\n      <td>-0.032081</td>\n      <td>0.056964</td>\n      <td>-0.008096</td>\n      <td>-0.014154</td>\n      <td>-0.017224</td>\n      <td>-0.011817</td>\n      <td>-0.011135</td>\n      <td>...</td>\n      <td>1.000000</td>\n      <td>-0.001712</td>\n      <td>-0.114803</td>\n      <td>-0.022857</td>\n      <td>-0.031566</td>\n      <td>-0.019941</td>\n      <td>0.040560</td>\n      <td>0.083285</td>\n      <td>-0.083285</td>\n      <td>0.016040</td>\n    </tr>\n    <tr>\n      <th>Cabin_T</th>\n      <td>0.032461</td>\n      <td>-0.023049</td>\n      <td>0.048310</td>\n      <td>-0.014325</td>\n      <td>-0.030057</td>\n      <td>-0.003615</td>\n      <td>-0.006320</td>\n      <td>-0.007691</td>\n      <td>-0.005277</td>\n      <td>-0.004972</td>\n      <td>...</td>\n      <td>-0.001712</td>\n      <td>1.000000</td>\n      <td>-0.051263</td>\n      <td>0.001179</td>\n      <td>-0.014095</td>\n      <td>-0.008904</td>\n      <td>0.018111</td>\n      <td>-0.020558</td>\n      <td>0.020558</td>\n      <td>-0.026456</td>\n    </tr>\n    <tr>\n      <th>Cabin_U</th>\n      <td>-0.271918</td>\n      <td>0.000208</td>\n      <td>-0.776987</td>\n      <td>0.176485</td>\n      <td>0.527614</td>\n      <td>-0.242399</td>\n      <td>-0.423794</td>\n      <td>-0.515684</td>\n      <td>-0.353822</td>\n      <td>-0.333381</td>\n      <td>...</td>\n      <td>-0.114803</td>\n      <td>-0.051263</td>\n      <td>1.000000</td>\n      <td>-0.507197</td>\n      <td>-0.258257</td>\n      <td>0.142369</td>\n      <td>0.137351</td>\n      <td>-0.137396</td>\n      <td>0.137396</td>\n      <td>-0.316912</td>\n    </tr>\n    <tr>\n      <th>Fare</th>\n      <td>0.171521</td>\n      <td>0.031416</td>\n      <td>0.599956</td>\n      <td>-0.121372</td>\n      <td>-0.419616</td>\n      <td>0.020094</td>\n      <td>0.393743</td>\n      <td>0.401370</td>\n      <td>0.072737</td>\n      <td>0.073949</td>\n      <td>...</td>\n      <td>-0.022857</td>\n      <td>0.001179</td>\n      <td>-0.507197</td>\n      <td>1.000000</td>\n      <td>0.286241</td>\n      <td>-0.130054</td>\n      <td>-0.169894</td>\n      <td>0.185484</td>\n      <td>-0.185484</td>\n      <td>0.257307</td>\n    </tr>\n    <tr>\n      <th>Embarked_C</th>\n      <td>0.076179</td>\n      <td>0.048101</td>\n      <td>0.325722</td>\n      <td>-0.134675</td>\n      <td>-0.171430</td>\n      <td>0.094914</td>\n      <td>0.161595</td>\n      <td>0.158043</td>\n      <td>0.107782</td>\n      <td>0.027566</td>\n      <td>...</td>\n      <td>-0.031566</td>\n      <td>-0.014095</td>\n      <td>-0.258257</td>\n      <td>0.286241</td>\n      <td>1.000000</td>\n      <td>-0.164166</td>\n      <td>-0.778262</td>\n      <td>0.066564</td>\n      <td>-0.066564</td>\n      <td>0.168240</td>\n    </tr>\n    <tr>\n      <th>Embarked_Q</th>\n      <td>-0.012718</td>\n      <td>0.011585</td>\n      <td>-0.166101</td>\n      <td>-0.121973</td>\n      <td>0.243706</td>\n      <td>-0.042105</td>\n      <td>-0.073613</td>\n      <td>-0.059151</td>\n      <td>-0.061459</td>\n      <td>-0.042877</td>\n      <td>...</td>\n      <td>-0.019941</td>\n      <td>-0.008904</td>\n      <td>0.142369</td>\n      <td>-0.130054</td>\n      <td>-0.164166</td>\n      <td>1.000000</td>\n      <td>-0.491656</td>\n      <td>0.088651</td>\n      <td>-0.088651</td>\n      <td>0.003650</td>\n    </tr>\n    <tr>\n      <th>Embarked_S</th>\n      <td>-0.059153</td>\n      <td>-0.049836</td>\n      <td>-0.181800</td>\n      <td>0.196532</td>\n      <td>-0.003805</td>\n      <td>-0.056984</td>\n      <td>-0.095790</td>\n      <td>-0.101861</td>\n      <td>-0.056023</td>\n      <td>0.002960</td>\n      <td>...</td>\n      <td>0.040560</td>\n      <td>0.018111</td>\n      <td>0.137351</td>\n      <td>-0.169894</td>\n      <td>-0.778262</td>\n      <td>-0.491656</td>\n      <td>1.000000</td>\n      <td>-0.115193</td>\n      <td>0.115193</td>\n      <td>-0.149683</td>\n    </tr>\n    <tr>\n      <th>Sex_female</th>\n      <td>-0.057397</td>\n      <td>-0.013406</td>\n      <td>0.107371</td>\n      <td>0.028862</td>\n      <td>-0.116562</td>\n      <td>-0.047561</td>\n      <td>0.094453</td>\n      <td>0.077473</td>\n      <td>0.057396</td>\n      <td>0.040340</td>\n      <td>...</td>\n      <td>0.083285</td>\n      <td>-0.020558</td>\n      <td>-0.137396</td>\n      <td>0.185484</td>\n      <td>0.066564</td>\n      <td>0.088651</td>\n      <td>-0.115193</td>\n      <td>1.000000</td>\n      <td>-1.000000</td>\n      <td>0.543351</td>\n    </tr>\n    <tr>\n      <th>Sex_male</th>\n      <td>0.057397</td>\n      <td>0.013406</td>\n      <td>-0.107371</td>\n      <td>-0.028862</td>\n      <td>0.116562</td>\n      <td>0.047561</td>\n      <td>-0.094453</td>\n      <td>-0.077473</td>\n      <td>-0.057396</td>\n      <td>-0.040340</td>\n      <td>...</td>\n      <td>-0.083285</td>\n      <td>0.020558</td>\n      <td>0.137396</td>\n      <td>-0.185484</td>\n      <td>-0.066564</td>\n      <td>-0.088651</td>\n      <td>0.115193</td>\n      <td>-1.000000</td>\n      <td>1.000000</td>\n      <td>-0.543351</td>\n    </tr>\n    <tr>\n      <th>Survived</th>\n      <td>-0.070323</td>\n      <td>-0.005007</td>\n      <td>0.285904</td>\n      <td>0.093349</td>\n      <td>-0.322308</td>\n      <td>0.022287</td>\n      <td>0.175095</td>\n      <td>0.114652</td>\n      <td>0.150716</td>\n      <td>0.145321</td>\n      <td>...</td>\n      <td>0.016040</td>\n      <td>-0.026456</td>\n      <td>-0.316912</td>\n      <td>0.257307</td>\n      <td>0.168240</td>\n      <td>0.003650</td>\n      <td>-0.149683</td>\n      <td>0.543351</td>\n      <td>-0.543351</td>\n      <td>1.000000</td>\n    </tr>\n  </tbody>\n</table>\n<p>21 rows × 21 columns</p>\n</div>"
     },
     "metadata": {},
     "execution_count": 23
    }
   ],
   "source": [
    "full1=pandas.concat([full['Age'],full['PassengerId'],pclassdf,cabindf,full['Fare'],embarkeddf,sexdf1,full['Survived']],axis=1)\n",
    "corrdf1=full1.corr()\n",
    "# corrdf1"
   ]
  },
  {
   "cell_type": "code",
   "execution_count": 24,
   "metadata": {},
   "outputs": [
    {
     "output_type": "execute_result",
     "data": {
      "text/plain": "Survived       1.000000\nSex_female     0.543351\nPclass_1       0.285904\nFare           0.257307\nCabin_B        0.175095\nEmbarked_C     0.168240\nCabin_D        0.150716\nCabin_E        0.145321\nCabin_C        0.114652\nPclass_2       0.093349\nCabin_F        0.057935\nCabin_A        0.022287\nCabin_G        0.016040\nEmbarked_Q     0.003650\nPassengerId   -0.005007\nCabin_T       -0.026456\nAge           -0.070323\nEmbarked_S    -0.149683\nCabin_U       -0.316912\nPclass_3      -0.322308\nSex_male      -0.543351\nName: Survived, dtype: float64"
     },
     "metadata": {},
     "execution_count": 24
    }
   ],
   "source": [
    "corrdf1['Survived'].sort_values(ascending=False)"
   ]
  },
  {
   "cell_type": "code",
   "execution_count": null,
   "metadata": {},
   "outputs": [],
   "source": [
    "https://zhuanlan.zhihu.com/p/40398646"
   ]
  },
  {
   "cell_type": "code",
   "execution_count": 39,
   "metadata": {},
   "outputs": [
    {
     "output_type": "error",
     "ename": "KeyError",
     "evalue": "\"['Cabin_B', 'Pclass_1', 'Cabin_F', 'Cabin_D', 'Cabin_U', 'Embarked_C', 'Cabin_A', 'Cabin_T', 'Pclass_3', 'Sex_male', 'Cabin_C', 'Embarked_S', 'Cabin_E', 'Embarked_Q', 'Pclass_2', 'Cabin_G', 'Sex_female'] not in index\"",
     "traceback": [
      "\u001b[1;31m---------------------------------------------------------------------------\u001b[0m",
      "\u001b[1;31mKeyError\u001b[0m                                  Traceback (most recent call last)",
      "\u001b[1;32m<ipython-input-39-eb1c8658dfbe>\u001b[0m in \u001b[0;36m<module>\u001b[1;34m\u001b[0m\n\u001b[0;32m     12\u001b[0m \u001b[0mtraindf\u001b[0m\u001b[1;33m.\u001b[0m\u001b[0minsert\u001b[0m\u001b[1;33m(\u001b[0m\u001b[1;36m0\u001b[0m\u001b[1;33m,\u001b[0m\u001b[1;34m\"Survived\"\u001b[0m\u001b[1;33m,\u001b[0m\u001b[0msurviveddf\u001b[0m\u001b[1;33m)\u001b[0m\u001b[1;33m\u001b[0m\u001b[1;33m\u001b[0m\u001b[0m\n\u001b[0;32m     13\u001b[0m \u001b[0mcolumns_selcd\u001b[0m\u001b[1;33m=\u001b[0m\u001b[1;33m[\u001b[0m\u001b[1;34m'Sex_female'\u001b[0m\u001b[1;33m,\u001b[0m\u001b[1;34m'Pclass_1'\u001b[0m\u001b[1;33m,\u001b[0m\u001b[1;34m'Fare'\u001b[0m\u001b[1;33m,\u001b[0m\u001b[1;34m'Cabin_B'\u001b[0m\u001b[1;33m,\u001b[0m\u001b[1;34m'Embarked_C'\u001b[0m\u001b[1;33m,\u001b[0m\u001b[1;34m'Cabin_D'\u001b[0m\u001b[1;33m,\u001b[0m\u001b[1;34m'Cabin_E'\u001b[0m\u001b[1;33m,\u001b[0m\u001b[1;34m'Cabin_C'\u001b[0m\u001b[1;33m,\u001b[0m\u001b[1;34m'Pclass_2'\u001b[0m\u001b[1;33m,\u001b[0m\u001b[1;34m'Cabin_F'\u001b[0m\u001b[1;33m,\u001b[0m\u001b[1;34m'Cabin_A'\u001b[0m\u001b[1;33m,\u001b[0m\u001b[1;34m'Cabin_G'\u001b[0m\u001b[1;33m,\u001b[0m\u001b[1;34m'Embarked_Q'\u001b[0m\u001b[1;33m,\u001b[0m\u001b[1;34m'PassengerId'\u001b[0m\u001b[1;33m,\u001b[0m\u001b[1;34m'Cabin_T'\u001b[0m\u001b[1;33m,\u001b[0m\u001b[1;34m'Age'\u001b[0m\u001b[1;33m,\u001b[0m\u001b[1;34m'Embarked_S'\u001b[0m\u001b[1;33m,\u001b[0m\u001b[1;34m'Cabin_U'\u001b[0m\u001b[1;33m,\u001b[0m\u001b[1;34m'Pclass_3'\u001b[0m\u001b[1;33m,\u001b[0m\u001b[1;34m'Sex_male'\u001b[0m\u001b[1;33m,\u001b[0m\u001b[1;34m'Pclass_2'\u001b[0m\u001b[1;33m,\u001b[0m\u001b[1;34m'Cabin_F'\u001b[0m\u001b[1;33m,\u001b[0m\u001b[1;34m'Cabin_A'\u001b[0m\u001b[1;33m,\u001b[0m\u001b[1;34m'Cabin_G'\u001b[0m\u001b[1;33m,\u001b[0m\u001b[1;34m'Embarked_Q'\u001b[0m\u001b[1;33m,\u001b[0m\u001b[1;34m'PassengerId'\u001b[0m\u001b[1;33m,\u001b[0m\u001b[1;34m'Cabin_T'\u001b[0m\u001b[1;33m,\u001b[0m\u001b[1;34m'Age'\u001b[0m\u001b[1;33m,\u001b[0m\u001b[1;34m'Embarked_S'\u001b[0m\u001b[1;33m,\u001b[0m\u001b[1;34m'Cabin_U'\u001b[0m\u001b[1;33m,\u001b[0m\u001b[1;34m'Pclass_3'\u001b[0m\u001b[1;33m,\u001b[0m\u001b[1;34m'Sex_male'\u001b[0m\u001b[1;33m]\u001b[0m\u001b[1;33m\u001b[0m\u001b[1;33m\u001b[0m\u001b[0m\n\u001b[1;32m---> 14\u001b[1;33m \u001b[0mfeatures_selcd\u001b[0m\u001b[1;33m=\u001b[0m\u001b[0mtrain\u001b[0m\u001b[1;33m[\u001b[0m\u001b[0mcolumns_selcd\u001b[0m\u001b[1;33m]\u001b[0m\u001b[1;33m\u001b[0m\u001b[1;33m\u001b[0m\u001b[0m\n\u001b[0m\u001b[0;32m     15\u001b[0m \u001b[0mlables\u001b[0m\u001b[1;33m=\u001b[0m\u001b[0mtraindf\u001b[0m\u001b[1;33m[\u001b[0m\u001b[1;34m'Survived'\u001b[0m\u001b[1;33m]\u001b[0m\u001b[1;33m\u001b[0m\u001b[1;33m\u001b[0m\u001b[0m\n\u001b[0;32m     16\u001b[0m \u001b[0mtrainx\u001b[0m\u001b[1;33m,\u001b[0m\u001b[0mtestx\u001b[0m\u001b[1;33m,\u001b[0m\u001b[0mtrainy\u001b[0m\u001b[1;33m,\u001b[0m\u001b[0mtesty\u001b[0m\u001b[1;33m=\u001b[0m\u001b[0mtrain_test_split\u001b[0m\u001b[1;33m(\u001b[0m\u001b[0mfeatures_selcd\u001b[0m\u001b[1;33m,\u001b[0m\u001b[0mlables\u001b[0m\u001b[1;33m,\u001b[0m\u001b[0mtrain_size\u001b[0m\u001b[1;33m=\u001b[0m\u001b[1;36m0.8\u001b[0m\u001b[1;33m)\u001b[0m\u001b[1;33m\u001b[0m\u001b[1;33m\u001b[0m\u001b[0m\n",
      "\u001b[1;32m~\\AppData\\Local\\Programs\\Python\\Python38\\lib\\site-packages\\pandas\\core\\frame.py\u001b[0m in \u001b[0;36m__getitem__\u001b[1;34m(self, key)\u001b[0m\n\u001b[0;32m   2804\u001b[0m             \u001b[1;32mif\u001b[0m \u001b[0mis_iterator\u001b[0m\u001b[1;33m(\u001b[0m\u001b[0mkey\u001b[0m\u001b[1;33m)\u001b[0m\u001b[1;33m:\u001b[0m\u001b[1;33m\u001b[0m\u001b[1;33m\u001b[0m\u001b[0m\n\u001b[0;32m   2805\u001b[0m                 \u001b[0mkey\u001b[0m \u001b[1;33m=\u001b[0m \u001b[0mlist\u001b[0m\u001b[1;33m(\u001b[0m\u001b[0mkey\u001b[0m\u001b[1;33m)\u001b[0m\u001b[1;33m\u001b[0m\u001b[1;33m\u001b[0m\u001b[0m\n\u001b[1;32m-> 2806\u001b[1;33m             \u001b[0mindexer\u001b[0m \u001b[1;33m=\u001b[0m \u001b[0mself\u001b[0m\u001b[1;33m.\u001b[0m\u001b[0mloc\u001b[0m\u001b[1;33m.\u001b[0m\u001b[0m_get_listlike_indexer\u001b[0m\u001b[1;33m(\u001b[0m\u001b[0mkey\u001b[0m\u001b[1;33m,\u001b[0m \u001b[0maxis\u001b[0m\u001b[1;33m=\u001b[0m\u001b[1;36m1\u001b[0m\u001b[1;33m,\u001b[0m \u001b[0mraise_missing\u001b[0m\u001b[1;33m=\u001b[0m\u001b[1;32mTrue\u001b[0m\u001b[1;33m)\u001b[0m\u001b[1;33m[\u001b[0m\u001b[1;36m1\u001b[0m\u001b[1;33m]\u001b[0m\u001b[1;33m\u001b[0m\u001b[1;33m\u001b[0m\u001b[0m\n\u001b[0m\u001b[0;32m   2807\u001b[0m \u001b[1;33m\u001b[0m\u001b[0m\n\u001b[0;32m   2808\u001b[0m         \u001b[1;31m# take() does not accept boolean indexers\u001b[0m\u001b[1;33m\u001b[0m\u001b[1;33m\u001b[0m\u001b[1;33m\u001b[0m\u001b[0m\n",
      "\u001b[1;32m~\\AppData\\Local\\Programs\\Python\\Python38\\lib\\site-packages\\pandas\\core\\indexing.py\u001b[0m in \u001b[0;36m_get_listlike_indexer\u001b[1;34m(self, key, axis, raise_missing)\u001b[0m\n\u001b[0;32m   1550\u001b[0m             \u001b[0mkeyarr\u001b[0m\u001b[1;33m,\u001b[0m \u001b[0mindexer\u001b[0m\u001b[1;33m,\u001b[0m \u001b[0mnew_indexer\u001b[0m \u001b[1;33m=\u001b[0m \u001b[0max\u001b[0m\u001b[1;33m.\u001b[0m\u001b[0m_reindex_non_unique\u001b[0m\u001b[1;33m(\u001b[0m\u001b[0mkeyarr\u001b[0m\u001b[1;33m)\u001b[0m\u001b[1;33m\u001b[0m\u001b[1;33m\u001b[0m\u001b[0m\n\u001b[0;32m   1551\u001b[0m \u001b[1;33m\u001b[0m\u001b[0m\n\u001b[1;32m-> 1552\u001b[1;33m         self._validate_read_indexer(\n\u001b[0m\u001b[0;32m   1553\u001b[0m             \u001b[0mkeyarr\u001b[0m\u001b[1;33m,\u001b[0m \u001b[0mindexer\u001b[0m\u001b[1;33m,\u001b[0m \u001b[0mo\u001b[0m\u001b[1;33m.\u001b[0m\u001b[0m_get_axis_number\u001b[0m\u001b[1;33m(\u001b[0m\u001b[0maxis\u001b[0m\u001b[1;33m)\u001b[0m\u001b[1;33m,\u001b[0m \u001b[0mraise_missing\u001b[0m\u001b[1;33m=\u001b[0m\u001b[0mraise_missing\u001b[0m\u001b[1;33m\u001b[0m\u001b[1;33m\u001b[0m\u001b[0m\n\u001b[0;32m   1554\u001b[0m         )\n",
      "\u001b[1;32m~\\AppData\\Local\\Programs\\Python\\Python38\\lib\\site-packages\\pandas\\core\\indexing.py\u001b[0m in \u001b[0;36m_validate_read_indexer\u001b[1;34m(self, key, indexer, axis, raise_missing)\u001b[0m\n\u001b[0;32m   1644\u001b[0m             \u001b[1;32mif\u001b[0m \u001b[1;32mnot\u001b[0m \u001b[1;33m(\u001b[0m\u001b[0mself\u001b[0m\u001b[1;33m.\u001b[0m\u001b[0mname\u001b[0m \u001b[1;33m==\u001b[0m \u001b[1;34m\"loc\"\u001b[0m \u001b[1;32mand\u001b[0m \u001b[1;32mnot\u001b[0m \u001b[0mraise_missing\u001b[0m\u001b[1;33m)\u001b[0m\u001b[1;33m:\u001b[0m\u001b[1;33m\u001b[0m\u001b[1;33m\u001b[0m\u001b[0m\n\u001b[0;32m   1645\u001b[0m                 \u001b[0mnot_found\u001b[0m \u001b[1;33m=\u001b[0m \u001b[0mlist\u001b[0m\u001b[1;33m(\u001b[0m\u001b[0mset\u001b[0m\u001b[1;33m(\u001b[0m\u001b[0mkey\u001b[0m\u001b[1;33m)\u001b[0m \u001b[1;33m-\u001b[0m \u001b[0mset\u001b[0m\u001b[1;33m(\u001b[0m\u001b[0max\u001b[0m\u001b[1;33m)\u001b[0m\u001b[1;33m)\u001b[0m\u001b[1;33m\u001b[0m\u001b[1;33m\u001b[0m\u001b[0m\n\u001b[1;32m-> 1646\u001b[1;33m                 \u001b[1;32mraise\u001b[0m \u001b[0mKeyError\u001b[0m\u001b[1;33m(\u001b[0m\u001b[1;34mf\"{not_found} not in index\"\u001b[0m\u001b[1;33m)\u001b[0m\u001b[1;33m\u001b[0m\u001b[1;33m\u001b[0m\u001b[0m\n\u001b[0m\u001b[0;32m   1647\u001b[0m \u001b[1;33m\u001b[0m\u001b[0m\n\u001b[0;32m   1648\u001b[0m             \u001b[1;31m# we skip the warning on Categorical/Interval\u001b[0m\u001b[1;33m\u001b[0m\u001b[1;33m\u001b[0m\u001b[1;33m\u001b[0m\u001b[0m\n",
      "\u001b[1;31mKeyError\u001b[0m: \"['Cabin_B', 'Pclass_1', 'Cabin_F', 'Cabin_D', 'Cabin_U', 'Embarked_C', 'Cabin_A', 'Cabin_T', 'Pclass_3', 'Sex_male', 'Cabin_C', 'Embarked_S', 'Cabin_E', 'Embarked_Q', 'Pclass_2', 'Cabin_G', 'Sex_female'] not in index\""
     ]
    }
   ],
   "source": [
    "import sklearn.model_selection\n",
    "from sklearn.model_selection import train_test_split\n",
    "# from sklearn.cross_validation import train_test_split\n",
    "# sourcex=full1.loc[0:890,:]\n",
    "# sourcey=full1.loc[0:890,'Survived']\n",
    "# predx=full1.loc[891:,:]\n",
    "# trainx,testx,trainy,testy=train_test_split(sourcex,sourcey,train_size=0.8)\n",
    "\n",
    "traindf=full1.loc[:890,:]\n",
    "surviveddf=full1['Survived']\n",
    "traindf.drop(columns=\"Survived\",inplace=True)\n",
    "traindf.insert(0,\"Survived\",surviveddf)\n",
    "columns_selcd=['Sex_female','Pclass_1','Fare','Cabin_B','Embarked_C','Cabin_D','Cabin_E','Cabin_C','Pclass_2','Cabin_F','Cabin_A','Cabin_G','Embarked_Q','PassengerId','Cabin_T','Age','Embarked_S','Cabin_U','Pclass_3','Sex_male','Pclass_2','Cabin_F','Cabin_A','Cabin_G','Embarked_Q','PassengerId','Cabin_T','Age','Embarked_S','Cabin_U','Pclass_3','Sex_male']\n",
    "features_selcd=train[columns_selcd]\n",
    "lables=traindf['Survived']\n",
    "trainx,testx,trainy,testy=train_test_split(features_selcd,lables,train_size=0.8)\n"
   ]
  },
  {
   "cell_type": "code",
   "execution_count": 35,
   "metadata": {},
   "outputs": [
    {
     "output_type": "execute_result",
     "data": {
      "text/plain": "100.0"
     },
     "metadata": {},
     "execution_count": 35
    }
   ],
   "source": [
    "from sklearn.linear_model import LogisticRegression\n",
    "model=LogisticRegression()\n",
    "model.fit(trainx,trainy)\n",
    "predictionlr=model.predict(testx)\n",
    "predictionlr[:5]\n",
    "from sklearn.metrics import accuracy_score\n",
    "round(accuracy_score(predictionlr,testy)*100,2)"
   ]
  },
  {
   "cell_type": "code",
   "execution_count": 36,
   "metadata": {},
   "outputs": [
    {
     "output_type": "error",
     "ename": "NameError",
     "evalue": "name 'columns_selcd' is not defined",
     "traceback": [
      "\u001b[1;31m---------------------------------------------------------------------------\u001b[0m",
      "\u001b[1;31mNameError\u001b[0m                                 Traceback (most recent call last)",
      "\u001b[1;32m<ipython-input-36-befb6bf4a621>\u001b[0m in \u001b[0;36m<module>\u001b[1;34m\u001b[0m\n\u001b[0;32m      2\u001b[0m \u001b[0mtestdf\u001b[0m\u001b[1;33m.\u001b[0m\u001b[0mdrop\u001b[0m\u001b[1;33m(\u001b[0m\u001b[0mcolumns\u001b[0m\u001b[1;33m=\u001b[0m\u001b[1;34m'Survived'\u001b[0m\u001b[1;33m,\u001b[0m\u001b[0minplace\u001b[0m\u001b[1;33m=\u001b[0m\u001b[1;32mTrue\u001b[0m\u001b[1;33m)\u001b[0m\u001b[1;33m\u001b[0m\u001b[1;33m\u001b[0m\u001b[0m\n\u001b[0;32m      3\u001b[0m \u001b[0mpassengerIdtest\u001b[0m\u001b[1;33m=\u001b[0m\u001b[0mtestdf\u001b[0m\u001b[1;33m.\u001b[0m\u001b[0mloc\u001b[0m\u001b[1;33m[\u001b[0m\u001b[1;36m891\u001b[0m\u001b[1;33m:\u001b[0m\u001b[1;33m,\u001b[0m\u001b[1;34m'PassengerId'\u001b[0m\u001b[1;33m]\u001b[0m\u001b[1;33m\u001b[0m\u001b[1;33m\u001b[0m\u001b[0m\n\u001b[1;32m----> 4\u001b[1;33m \u001b[0mfeatures_test\u001b[0m\u001b[1;33m=\u001b[0m\u001b[0mtestdf\u001b[0m\u001b[1;33m[\u001b[0m\u001b[0mcolumns_selcd\u001b[0m\u001b[1;33m]\u001b[0m\u001b[1;33m\u001b[0m\u001b[1;33m\u001b[0m\u001b[0m\n\u001b[0m\u001b[0;32m      5\u001b[0m \u001b[0mypredtest\u001b[0m\u001b[1;33m=\u001b[0m\u001b[0mmodel\u001b[0m\u001b[1;33m.\u001b[0m\u001b[0mpredict\u001b[0m\u001b[1;33m(\u001b[0m\u001b[0mfeatures_test\u001b[0m\u001b[1;33m)\u001b[0m\u001b[1;33m\u001b[0m\u001b[1;33m\u001b[0m\u001b[0m\n\u001b[0;32m      6\u001b[0m \u001b[0mypreddf\u001b[0m\u001b[1;33m=\u001b[0m\u001b[0mpandas\u001b[0m\u001b[1;33m.\u001b[0m\u001b[0mDataFrame\u001b[0m\u001b[1;33m(\u001b[0m\u001b[1;33m{\u001b[0m\u001b[1;34m'PassengerId'\u001b[0m\u001b[1;33m:\u001b[0m\u001b[0mpassengerIdtest\u001b[0m\u001b[1;33m,\u001b[0m\u001b[1;34m'Survived'\u001b[0m\u001b[1;33m:\u001b[0m\u001b[0mypredtest\u001b[0m\u001b[1;33m(\u001b[0m\u001b[0mint\u001b[0m\u001b[1;33m)\u001b[0m\u001b[1;33m}\u001b[0m\u001b[1;33m)\u001b[0m\u001b[1;33m\u001b[0m\u001b[1;33m\u001b[0m\u001b[0m\n",
      "\u001b[1;31mNameError\u001b[0m: name 'columns_selcd' is not defined"
     ]
    }
   ],
   "source": [
    "testdf=full.loc[891:,:]\n",
    "testdf.drop(columns='Survived',inplace=True)\n",
    "passengerIdtest=testdf.loc[891:,'PassengerId']\n",
    "features_test=testdf[columns_selcd]\n",
    "ypredtest=model.predict(features_test)\n",
    "ypreddf=pandas.DataFrame({'PassengerId':passengerIdtest,'Survived':ypredtest(int)})\n",
    "ypreddf.to_csv('/titanic/titanic_pred_quincy.csv')"
   ]
  },
  {
   "cell_type": "code",
   "execution_count": null,
   "metadata": {},
   "outputs": [],
   "source": [
    "# https://zhuanlan.zhihu.com/p/36862025\n",
    "# https://zhuanlan.zhihu.com/p/97746823\n",
    "# https://zhuanlan.zhihu.com/p/40398646"
   ]
  },
  {
   "cell_type": "code",
   "execution_count": 25,
   "metadata": {},
   "outputs": [
    {
     "output_type": "execute_result",
     "data": {
      "text/plain": "((891, 11), (891,), (418, 10))"
     },
     "metadata": {},
     "execution_count": 25
    }
   ],
   "source": [
    "X_train = train.drop(\"Survived\", axis=1)\n",
    "Y_train = train[\"Survived\"]\n",
    "X_test  = test.drop(\"PassengerId\", axis=1).copy()\n",
    "X_train.shape, Y_train.shape, X_test.shape"
   ]
  }
 ]
}