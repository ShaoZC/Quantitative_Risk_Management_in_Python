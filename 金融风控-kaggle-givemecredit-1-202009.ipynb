{
 "metadata": {
  "language_info": {
   "codemirror_mode": {
    "name": "ipython",
    "version": 3
   },
   "file_extension": ".py",
   "mimetype": "text/x-python",
   "name": "python",
   "nbconvert_exporter": "python",
   "pygments_lexer": "ipython3",
   "version": "3.8.4-final"
  },
  "orig_nbformat": 2,
  "kernelspec": {
   "name": "python38464bit9379dd402be645a4a272fa7043f0c61f",
   "display_name": "Python 3.8.4 64-bit"
  }
 },
 "nbformat": 4,
 "nbformat_minor": 2,
 "cells": [
  {
   "cell_type": "code",
   "execution_count": null,
   "metadata": {},
   "outputs": [],
   "source": [
    "# Python信用评分卡建模\n",
    "# https://zhuanlan.zhihu.com/p/69548218"
   ]
  },
  {
   "cell_type": "code",
   "execution_count": 9,
   "metadata": {},
   "outputs": [],
   "source": [
    "import pandas\n",
    "train=pandas.read_csv('GiveMeSomeCredit-cs-training.csv')\n",
    "test=pandas.read_csv('GiveMeSomeCredit-cs-test.csv')"
   ]
  },
  {
   "cell_type": "code",
   "execution_count": 11,
   "metadata": {},
   "outputs": [],
   "source": [
    "# 3 数据预处理\n",
    "import numpy\n",
    "from sklearn.ensemble import RandomForestRegressor\n",
    "def set_missing(df):\n",
    "    process_df = df.iloc[:,[5,0,1,2,3,4,6,7,8,9]]\n",
    "    # 分成已知特征值和未知特征值两部分\n",
    "    known = process_df[process_df['MonthlyIncome'].notnull()].values# 将表格转换为矩阵    \n",
    "    # known = process_df[process_df['MonthlyIncome'].notnull()].as_matrix() # 将表格转换为矩阵\n",
    "    unknown = process_df[process_df['MonthlyIncome'].isnull()].values\n",
    "    # x为特征属性\n",
    "    X = known[:,1:]\n",
    "    # Y为结果标签值,即要预测的MonthlyIncome\n",
    "    Y = known[:,0]\n",
    "    rfr = RandomForestRegressor(random_state=0,n_estimators=200,max_depth=3,n_jobs=-1)\n",
    "    rfr.fit(X,Y)\n",
    "    predicted = rfr.predict(unknown[:,1:]).round(0)\n",
    "    # 用得到的预测结果填补原始缺失数据\n",
    "    df.loc[(df['MonthlyIncome'].isnull()),'MonthlyIncome'] = predicted\n",
    "    return df\n",
    "# train = set_missing(train)"
   ]
  },
  {
   "cell_type": "code",
   "execution_count": 13,
   "metadata": {
    "tags": []
   },
   "outputs": [
    {
     "output_type": "stream",
     "name": "stdout",
     "text": "<class 'pandas.core.frame.DataFrame'>\nInt64Index: 120269 entries, 0 to 149999\nData columns (total 12 columns):\n #   Column                                Non-Null Count   Dtype  \n---  ------                                --------------   -----  \n 0   ID                                    120269 non-null  int64  \n 1   SeriousDlqin2yrs                      120269 non-null  int64  \n 2   RevolvingUtilizationOfUnsecuredLines  120269 non-null  float64\n 3   age                                   120269 non-null  int64  \n 4   NumberOfTime30-59DaysPastDueNotWorse  120269 non-null  int64  \n 5   DebtRatio                             120269 non-null  float64\n 6   MonthlyIncome                         120269 non-null  float64\n 7   NumberOfOpenCreditLinesAndLoans       120269 non-null  int64  \n 8   NumberOfTimes90DaysLate               120269 non-null  int64  \n 9   NumberRealEstateLoansOrLines          120269 non-null  int64  \n 10  NumberOfTime60-89DaysPastDueNotWorse  120269 non-null  int64  \n 11  NumberOfDependents                    120269 non-null  float64\ndtypes: float64(4), int64(8)\nmemory usage: 11.9 MB\n"
    }
   ],
   "source": [
    "# 特征量NumberOfDependts\n",
    "train=train.dropna()\n",
    "train.drop_duplicates()\n",
    "train.to_csv('GiveMeSomeCredit-cs-training-MissingData.csv',index=False)\n",
    "train.info()"
   ]
  },
  {
   "cell_type": "code",
   "execution_count": 14,
   "metadata": {},
   "outputs": [],
   "source": [
    "# 变量SeriousDlqin2yrs取反，处理后即好客户为1，违约客户为0\n",
    "train['SeriousDlqin2yrs'] = 1-train['SeriousDlqin2yrs']"
   ]
  },
  {
   "cell_type": "code",
   "execution_count": 17,
   "metadata": {},
   "outputs": [],
   "source": [
    "# （3）数据切分\n",
    "from sklearn.model_selection import train_test_split\n",
    "Y=train['SeriousDlqin2yrs']\n",
    "X=train.iloc[:,1:]\n",
    "X_train,X_test,Y_train,Y_test = train_test_split(X,Y,test_size = 0.3,random_state=0)\n",
    "train = pandas.concat([Y_train,X_train],axis = 1)\n",
    "test = pandas.concat([Y_test,X_test],axis = 1)\n"
   ]
  },
  {
   "cell_type": "code",
   "execution_count": null,
   "metadata": {},
   "outputs": [],
   "source": [
    "# 4 探索性分析"
   ]
  },
  {
   "cell_type": "code",
   "execution_count": 18,
   "metadata": {},
   "outputs": [],
   "source": [
    "# 四、变量选择\n",
    "# 1 分箱处理（变量离散化）\n",
    "import pandas as pd\n",
    "def mono_bin(Y,X,n = 20):\n",
    "    good = Y.sum()\n",
    "    bad = Y.count() - good\n",
    "    r = 0\n",
    "    while np.abs(r) < 1:\n",
    "        d1 = pd.DataFrame({'X':X,'Y':Y,'Bucket':pd.qcut(X,n)})\n",
    "        d2 = d1.groupby(['Bucket'],as_index = True)\n",
    "        r,p = stats.spearmanr(d2['X'].mean(),d2['Y'].mean()) # spearman秩相关系数是度量两个变量之间的统计相关性的指标\n",
    "        n = n - 1\n",
    "    d3 = pd.DataFrame(d2['X'].min(),columns=['min']) # 为什么是空表\n",
    "    d3['min'] = d2['X'].min()\n",
    "    d3['max'] = d2['X'].max()\n",
    "    d3['sum'] = d2['Y'].sum()\n",
    "    d3['total'] = d2['Y'].count()\n",
    "    d3['rate'] = d2['Y'].mean()\n",
    "    d3['goodattribute'] = d3['sum'] / good\n",
    "    d3['badattribute'] = (d3['total'] - d3['sum']) / bad\n",
    "    d3['woe'] = np.log(d3['goodattribute'] / d3['badattribute'])\n",
    "    iv = ((d3['goodattribute'] - d3['badattribute']) * d3['woe']).sum()\n",
    "    d4 = (d3.sort_index(by = 'min'))\n",
    "    woe = list(d4['woe'].values)\n",
    "    print(d4)\n",
    "    print('-' * 30)\n",
    "    cut = []\n",
    "    cut.append(float('-inf'))\n",
    "    for i in range(1,n+1):\n",
    "        qua = X.quantile(i/(n+1)) # quantile求分位数，pos = (n+1)*p，n为数据的总个数，p为0-1之间的值\n",
    "        cut.append(round(qua,4)) # round()方法返回浮点数x的四舍五入值。\n",
    "    cut.append(float('inf'))\n",
    "    return d4,iv,woe,cut"
   ]
  },
  {
   "cell_type": "code",
   "execution_count": 21,
   "metadata": {},
   "outputs": [],
   "source": [
    "# # 使用最优分段对于数据集中的RevolvingUtilizationOfUnsecuredLines、age、DebtRatio和MonthlyIncome进行分类。\n",
    "# import numpy as np\n",
    "# dfx1,ivx1,woex1,cutx1 = mono_bin(train['SeriousDlqin2yrs'],train['RevolvingUtilizationOfUnsecuredLines'],n = 10) \n",
    "# dfx2,ivx2,woex2,cutx2 = mono_bin(train['SeriousDlqin2yrs'],train['age'],n = 20)\n",
    "# dfx4,ivx4,woex4,cutx4 = mono_bin(train['SeriousDlqin2yrs'],train['DebtRatio'],n = 10)\n",
    "# dfx5,ivx5,woex5,cutx5 = mono_bin(train['SeriousDlqin2yrs'],train['MonthlyIncome'],n = 10)"
   ]
  },
  {
   "cell_type": "code",
   "execution_count": null,
   "metadata": {},
   "outputs": [],
   "source": [
    "# https://zhuanlan.zhihu.com/p/69548218"
   ]
  }
 ]
}