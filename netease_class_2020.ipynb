{
 "nbformat": 4,
 "nbformat_minor": 2,
 "metadata": {
  "language_info": {
   "name": "python",
   "codemirror_mode": {
    "name": "ipython",
    "version": 3
   },
   "version": "3.7.4-final"
  },
  "orig_nbformat": 2,
  "file_extension": ".py",
  "mimetype": "text/x-python",
  "name": "python",
  "npconvert_exporter": "python",
  "pygments_lexer": "ipython3",
  "version": 3,
  "kernelspec": {
   "name": "python3",
   "display_name": "Python 3"
  }
 },
 "cells": [
  {
   "cell_type": "markdown",
   "metadata": {},
   "source": [
    "## 网易云课堂信息数据集\n",
    "数据来自https://www.kesci.com/home/dataset/5e4627db5f2816002ceec946/project\n",
    "\n",
    "- course 为课程信息，包含网课名，教师，价格，学习人数等字段；\n",
    "- data为对应课程的适用人群字段"
   ]
  },
  {
   "cell_type": "code",
   "execution_count": 9,
   "metadata": {},
   "outputs": [
    {
     "output_type": "execute_result",
     "data": {
      "text/plain": "             productName lectorName  Price  learnerCount\n0       和秋叶一起学PPT—首选王牌课程         秋叶  169.0         55856\n1  PS 教程超级合辑-Photoshop教程     橘子老师 等  699.0         11178\n2       工作型PPT应该这样做【爆款课】       秋叶 等  149.0          8073\n3                 跟简七学理财         简七  398.0         10628\n4                 英语口语革命      李先知 等  499.0          8072",
      "text/html": "<div>\n<style scoped>\n    .dataframe tbody tr th:only-of-type {\n        vertical-align: middle;\n    }\n\n    .dataframe tbody tr th {\n        vertical-align: top;\n    }\n\n    .dataframe thead th {\n        text-align: right;\n    }\n</style>\n<table border=\"1\" class=\"dataframe\">\n  <thead>\n    <tr style=\"text-align: right;\">\n      <th></th>\n      <th>productName</th>\n      <th>lectorName</th>\n      <th>Price</th>\n      <th>learnerCount</th>\n    </tr>\n  </thead>\n  <tbody>\n    <tr>\n      <td>0</td>\n      <td>和秋叶一起学PPT—首选王牌课程</td>\n      <td>秋叶</td>\n      <td>169.0</td>\n      <td>55856</td>\n    </tr>\n    <tr>\n      <td>1</td>\n      <td>PS 教程超级合辑-Photoshop教程</td>\n      <td>橘子老师 等</td>\n      <td>699.0</td>\n      <td>11178</td>\n    </tr>\n    <tr>\n      <td>2</td>\n      <td>工作型PPT应该这样做【爆款课】</td>\n      <td>秋叶 等</td>\n      <td>149.0</td>\n      <td>8073</td>\n    </tr>\n    <tr>\n      <td>3</td>\n      <td>跟简七学理财</td>\n      <td>简七</td>\n      <td>398.0</td>\n      <td>10628</td>\n    </tr>\n    <tr>\n      <td>4</td>\n      <td>英语口语革命</td>\n      <td>李先知 等</td>\n      <td>499.0</td>\n      <td>8072</td>\n    </tr>\n  </tbody>\n</table>\n</div>"
     },
     "metadata": {},
     "execution_count": 9
    }
   ],
   "source": [
    "import pandas\n",
    "import numpy\n",
    "import matplotlib.pyplot\n",
    "file_folder='netease_cloud_class/'\n",
    "file_course='course.csv'\n",
    "file_people='people.csv'\n",
    "course=pandas.read_csv(file_folder+file_course)\n",
    "course.head()\n",
    ""
   ]
  },
  {
   "cell_type": "code",
   "execution_count": 10,
   "metadata": {},
   "outputs": [
    {
     "output_type": "execute_result",
     "data": {
      "text/plain": "                                                适用人群\n0        产品助理、准产品经理、产品经理、其他产品管理人员、在校大学生、应届毕业生、转岗转职人员\n1  想学Avada主题的同学，想做网站的同学，想学WordPress的同学，做外贸网站的同学，做...\n2  所有参加大学英语四级考试以上的同学、词源爱好者、英语爱好者、词汇爱好者、想提高英语水平的职场人士。\n3                    AE ,影视后期 ，影视特效 ，合成 ，抠像 ，跟踪，高级插件\n4    所有望子成龙、望女成凤的家长们，先自学再言传身教，助子女成材所有想要实现逆袭的——在校中小学生",
      "text/html": "<div>\n<style scoped>\n    .dataframe tbody tr th:only-of-type {\n        vertical-align: middle;\n    }\n\n    .dataframe tbody tr th {\n        vertical-align: top;\n    }\n\n    .dataframe thead th {\n        text-align: right;\n    }\n</style>\n<table border=\"1\" class=\"dataframe\">\n  <thead>\n    <tr style=\"text-align: right;\">\n      <th></th>\n      <th>适用人群</th>\n    </tr>\n  </thead>\n  <tbody>\n    <tr>\n      <td>0</td>\n      <td>产品助理、准产品经理、产品经理、其他产品管理人员、在校大学生、应届毕业生、转岗转职人员</td>\n    </tr>\n    <tr>\n      <td>1</td>\n      <td>想学Avada主题的同学，想做网站的同学，想学WordPress的同学，做外贸网站的同学，做...</td>\n    </tr>\n    <tr>\n      <td>2</td>\n      <td>所有参加大学英语四级考试以上的同学、词源爱好者、英语爱好者、词汇爱好者、想提高英语水平的职场人士。</td>\n    </tr>\n    <tr>\n      <td>3</td>\n      <td>AE ,影视后期 ，影视特效 ，合成 ，抠像 ，跟踪，高级插件</td>\n    </tr>\n    <tr>\n      <td>4</td>\n      <td>所有望子成龙、望女成凤的家长们，先自学再言传身教，助子女成材所有想要实现逆袭的——在校中小学生</td>\n    </tr>\n  </tbody>\n</table>\n</div>"
     },
     "metadata": {},
     "execution_count": 10
    }
   ],
   "source": [
    "people=pandas.read_csv(file_folder+file_people)\n",
    "people.head()"
   ]
  }
 ]
}